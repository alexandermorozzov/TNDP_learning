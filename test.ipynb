{
 "cells": [
  {
   "cell_type": "markdown",
   "id": "b6ba4c40",
   "metadata": {},
   "source": [
    "### Imports"
   ]
  },
  {
   "cell_type": "code",
   "execution_count": 1,
   "id": "2122460e",
   "metadata": {},
   "outputs": [],
   "source": [
    "import torch\n",
    "import shutil\n",
    "import pickle\n",
    "\n",
    "from simulation import citygraph_dataset\n",
    "from learning import inductive_route_learning, eval_route_generator\n",
    "from omegaconf import OmegaConf, DictConfig\n",
    "from hydra import initialize_config_dir, compose\n",
    "from simulation import drawing\n",
    "\n",
    "from tqdm import tqdm\n",
    "from pathlib import Path"
   ]
  },
  {
   "cell_type": "markdown",
   "id": "009d7499",
   "metadata": {},
   "source": [
    "### Graph dataset generating"
   ]
  },
  {
   "cell_type": "code",
   "execution_count": 2,
   "id": "b335d9a0",
   "metadata": {},
   "outputs": [
    {
     "name": "stderr",
     "output_type": "stream",
     "text": [
      "100%|██████████| 10/10 [00:00<00:00, 27.83it/s]\n"
     ]
    }
   ],
   "source": [
    "dataset = citygraph_dataset.DynamicCityGraphDataset(\n",
    "    min_nodes=50,\n",
    "    max_nodes=50,\n",
    "    edge_keep_prob=0.7,\n",
    "    data_type=citygraph_dataset.MIXED,  # or any other type you want\n",
    "    directed=False,\n",
    "    fully_connected_demand=True,  # default SIDE_LENGTH_M\n",
    "    mumford_style=True,\n",
    "    pos_only=False\n",
    ")\n",
    "\n",
    "# Generate graphs\n",
    "n_graphs = 10  # number of graphs you want to generate\n",
    "graphs = [dataset.generate_graph(draw=False) for _ in tqdm(range(n_graphs))]"
   ]
  },
  {
   "cell_type": "code",
   "execution_count": 3,
   "id": "75a64fe9",
   "metadata": {},
   "outputs": [],
   "source": [
    "import pickle\n",
    "from pathlib import Path\n",
    "\n",
    "# Путь для сохранения\n",
    "save_path = Path('./output_graphs')\n",
    "if not save_path.exists():\n",
    "    save_path.mkdir(parents=True)\n",
    "\n",
    "# Сохраняем объект в файл\n",
    "with open(save_path / 'raw_graphs_1000.pkl', 'wb') as ff:\n",
    "    pickle.dump(graphs, ff)\n"
   ]
  },
  {
   "cell_type": "code",
   "execution_count": 4,
   "id": "d56bde5c",
   "metadata": {},
   "outputs": [],
   "source": [
    "import pickle\n",
    "\n",
    "with open(save_path / 'raw_graphs_1000.pkl', 'rb') as f:\n",
    "    graphs = pickle.load(f)"
   ]
  },
  {
   "cell_type": "markdown",
   "id": "0691900f",
   "metadata": {},
   "source": [
    "### Config load and learning construct"
   ]
  },
  {
   "cell_type": "code",
   "execution_count": 5,
   "id": "ed5ebd50",
   "metadata": {},
   "outputs": [
    {
     "name": "stderr",
     "output_type": "stream",
     "text": [
      "/tmp/ipykernel_40345/3755569231.py:4: UserWarning: \n",
      "The version_base parameter is not specified.\n",
      "Please specify a compatability version level, or None.\n",
      "Will assume defaults for version 1.1\n",
      "  with initialize_config_dir(config_dir=\"/root/TNDP_learning/cfg\", job_name=\"app\"):\n"
     ]
    },
    {
     "name": "stdout",
     "output_type": "stream",
     "text": [
      "{'ppo': {'n_iterations': 200, 'val_period': 1, 'n_epochs': 1, 'minibatch_size': 128, 'horizon': 120, 'epsilon': 0.2, 'use_gae': True, 'gae_lambda': 0.95}, 'discount_rate': 0.95, 'diff_reward': True, 'baseline_lr': 0.0005, 'entropy_weight': 0.0, 'batch_size': 128, 'reward_scale': 1.0, 'lr': 0.0016134816080499328, 'decay': 0.0008404361781997002, 'optimizer': 'Adam', 'eval': {'n_routes': 10, 'min_route_len': 8, 'max_route_len': 30}, 'dataset': {'type': 'pickle', 'kwargs': {'path': 'output_graphs/mixed', 'space_scale': 0.6, 'demand_scale': 0.2}}, 'experiment': {'logdir': 'training_logs', 'anomaly': False, 'cpu': False, 'seed': 0, 'symmetric_routes': True, 'cost_function': {'type': 'mine', 'kwargs': {'mean_stop_time_s': 0, 'avg_transfer_wait_time_s': 300, 'demand_time_weight': 0.5, 'route_time_weight': 0.5, 'constraint_violation_weight': 5.0, 'variable_weights': True, 'pp_fraction': 0.33, 'op_fraction': 0.33}}}, 'model': {'common': {'dropout': 0.0, 'nonlin_type': 'ReLU', 'embed_dim': 64}, 'route_generator': {'kwargs': {'force_linking_unlinked': False, 'logit_clip': None, 'n_nodepair_layers': 3, 'n_pathscorer_layers': 3, 'pathscorer_hidden_dim': 16, 'n_halt_layers': 3, 'halt_scorer_type': 'endpoints', 'serial_halting': True}, 'type': 'PathCombiningRouteGenerator'}, 'backbone_gn': {'net_type': 'graph attn', 'kwargs': {'n_layers': 5, 'in_node_dim': 4, 'in_edge_dim': 13, 'use_norm': False, 'n_heads': 4, 'dense': False}}}}\n"
     ]
    }
   ],
   "source": [
    "from omegaconf import OmegaConf\n",
    "from hydra import initialize_config_dir, compose\n",
    "\n",
    "with initialize_config_dir(config_dir=\"/root/TNDP_learning/cfg\", job_name=\"app\"):\n",
    "    cfg = compose(config_name=\"ppo_20nodes_copy.yaml\")  # загрузит config.yaml + всё из defaults\n",
    "    # cfg = OmegaConf.to_container(cfg, resolve=False)  # опционально — привести к dict\n",
    "    print(cfg)"
   ]
  },
  {
   "cell_type": "code",
   "execution_count": 6,
   "id": "e136d390",
   "metadata": {},
   "outputs": [
    {
     "data": {
      "text/plain": [
       "{'ppo': {'n_iterations': 200, 'val_period': 1, 'n_epochs': 1, 'minibatch_size': 128, 'horizon': 120, 'epsilon': 0.2, 'use_gae': True, 'gae_lambda': 0.95}, 'discount_rate': 0.95, 'diff_reward': True, 'baseline_lr': 0.0005, 'entropy_weight': 0.0, 'batch_size': 128, 'reward_scale': 1.0, 'lr': 0.0016134816080499328, 'decay': 0.0008404361781997002, 'optimizer': 'Adam', 'eval': {'n_routes': 10, 'min_route_len': 8, 'max_route_len': 30}, 'dataset': {'type': 'pickle', 'kwargs': {'path': 'output_graphs/mixed', 'space_scale': 0.6, 'demand_scale': 0.2}}, 'experiment': {'logdir': 'training_logs', 'anomaly': False, 'cpu': False, 'seed': 0, 'symmetric_routes': True, 'cost_function': {'type': 'mine', 'kwargs': {'mean_stop_time_s': 0, 'avg_transfer_wait_time_s': 300, 'demand_time_weight': 0.5, 'route_time_weight': 0.5, 'constraint_violation_weight': 5.0, 'variable_weights': True, 'pp_fraction': 0.33, 'op_fraction': 0.33}}}, 'model': {'common': {'dropout': 0.0, 'nonlin_type': 'ReLU', 'embed_dim': 64}, 'route_generator': {'kwargs': {'force_linking_unlinked': False, 'logit_clip': None, 'n_nodepair_layers': 3, 'n_pathscorer_layers': 3, 'pathscorer_hidden_dim': 16, 'n_halt_layers': 3, 'halt_scorer_type': 'endpoints', 'serial_halting': True}, 'type': 'PathCombiningRouteGenerator'}, 'backbone_gn': {'net_type': 'graph attn', 'kwargs': {'n_layers': 5, 'in_node_dim': 4, 'in_edge_dim': 13, 'use_norm': False, 'n_heads': 4, 'dense': False}}}}"
      ]
     },
     "execution_count": 6,
     "metadata": {},
     "output_type": "execute_result"
    }
   ],
   "source": [
    "cfg"
   ]
  },
  {
   "cell_type": "code",
   "execution_count": 7,
   "id": "f06c6c5b",
   "metadata": {},
   "outputs": [
    {
     "name": "stderr",
     "output_type": "stream",
     "text": [
      "  0%|          | 0/200 [00:00<?, ?it/s]/root/TNDP_learning/learning/models.py:612: UserWarning: var(): degrees of freedom is <= 0. Correction should be strictly less than the reduction factor (input numel divided by output numel). (Triggered internally at /pytorch/aten/src/ATen/native/ReduceOps.cpp:1831.)\n",
      "  x_var = xx.var(0).detach()\n",
      "\u001b[32m2025-07-21 15:11:50.310\u001b[0m | \u001b[33m\u001b[1mWARNING \u001b[0m | \u001b[36miduedu.utils.utils\u001b[0m:\u001b[36mkeep_largest_strongly_connected_component\u001b[0m:\u001b[36m27\u001b[0m - \u001b[33m\u001b[1mGraph contains 12 weakly connected components. This means the graph has disconnected groups if edge directions are ignored. Component sizes:: [39, 1, 1, 1, 1, 1, 1, 1, 1, 1, 1, 1]\u001b[0m\n",
      "\u001b[32m2025-07-21 15:11:50.312\u001b[0m | \u001b[33m\u001b[1mWARNING \u001b[0m | \u001b[36miduedu.utils.utils\u001b[0m:\u001b[36mkeep_largest_strongly_connected_component\u001b[0m:\u001b[36m37\u001b[0m - \u001b[33m\u001b[1mRemoving 11 nodes from 11 smaller strongly connected components. These are subgraphs where nodes are internally reachable but isolated from the rest. Retaining only the largest strongly connected component (39 nodes).\u001b[0m\n"
     ]
    },
    {
     "name": "stdout",
     "output_type": "stream",
     "text": [
      "tensor([[-11101.0039, -20341.2637],\n",
      "        [-11101.0039, -15820.9834],\n",
      "        [-11101.0039, -11300.7021],\n",
      "        [-11101.0039,  -6780.4209],\n",
      "        [-11101.0039,  -2260.1401],\n",
      "        [-11101.0039,   2260.1401],\n",
      "        [-11101.0039,   6780.4209],\n",
      "        [-11101.0039,  11300.7021],\n",
      "        [-11101.0039,  15820.9834],\n",
      "        [-11101.0039,  20341.2637],\n",
      "        [ -5550.5020, -20341.2637],\n",
      "        [ -5550.5020, -15820.9834],\n",
      "        [ -5550.5020, -11300.7021],\n",
      "        [ -5550.5020,  -6780.4209],\n",
      "        [ -5550.5020,  -2260.1401],\n",
      "        [ -5550.5020,   2260.1401],\n",
      "        [ -5550.5020,   6780.4209],\n",
      "        [ -5550.5020,  11300.7021],\n",
      "        [ -5550.5020,  15820.9834],\n",
      "        [ -5550.5020,  20341.2637],\n",
      "        [     0.0000, -20341.2637],\n",
      "        [     0.0000, -15820.9834],\n",
      "        [     0.0000, -11300.7021],\n",
      "        [     0.0000,  -6780.4209],\n",
      "        [     0.0000,  -2260.1401],\n",
      "        [     0.0000,   2260.1401],\n",
      "        [     0.0000,   6780.4209],\n",
      "        [     0.0000,  11300.7021],\n",
      "        [     0.0000,  15820.9834],\n",
      "        [     0.0000,  20341.2637],\n",
      "        [  5550.5020, -20341.2637],\n",
      "        [  5550.5020, -15820.9834],\n",
      "        [  5550.5020, -11300.7021],\n",
      "        [  5550.5020,  -6780.4209],\n",
      "        [  5550.5020,  -2260.1401],\n",
      "        [  5550.5020,   2260.1401],\n",
      "        [  5550.5020,   6780.4209],\n",
      "        [  5550.5020,  11300.7021],\n",
      "        [  5550.5020,  15820.9834],\n",
      "        [  5550.5020,  20341.2637],\n",
      "        [ 11101.0039, -20341.2637],\n",
      "        [ 11101.0039, -15820.9834],\n",
      "        [ 11101.0039, -11300.7021],\n",
      "        [ 11101.0039,  -6780.4209],\n",
      "        [ 11101.0039,  -2260.1401],\n",
      "        [ 11101.0039,   2260.1401],\n",
      "        [ 11101.0039,   6780.4209],\n",
      "        [ 11101.0039,  11300.7021],\n",
      "        [ 11101.0039,  15820.9834],\n",
      "        [ 11101.0039,  20341.2637]])\n"
     ]
    },
    {
     "name": "stderr",
     "output_type": "stream",
     "text": [
      "/root/TNDP_learning/venv/lib/python3.10/site-packages/shapely/constructive.py:857: RuntimeWarning: invalid value encountered in point_on_surface\n",
      "  return lib.point_on_surface(geometry, **kwargs)\n",
      "\u001b[32m2025-07-21 15:11:51.268\u001b[0m | \u001b[33m\u001b[1mWARNING \u001b[0m | \u001b[36miduedu.utils.utils\u001b[0m:\u001b[36mkeep_largest_strongly_connected_component\u001b[0m:\u001b[36m27\u001b[0m - \u001b[33m\u001b[1mGraph contains 12 weakly connected components. This means the graph has disconnected groups if edge directions are ignored. Component sizes:: [39, 1, 1, 1, 1, 1, 1, 1, 1, 1, 1, 1]\u001b[0m\n",
      "\u001b[32m2025-07-21 15:11:51.269\u001b[0m | \u001b[33m\u001b[1mWARNING \u001b[0m | \u001b[36miduedu.utils.utils\u001b[0m:\u001b[36mkeep_largest_strongly_connected_component\u001b[0m:\u001b[36m37\u001b[0m - \u001b[33m\u001b[1mRemoving 11 nodes from 11 smaller strongly connected components. These are subgraphs where nodes are internally reachable but isolated from the rest. Retaining only the largest strongly connected component (39 nodes).\u001b[0m\n"
     ]
    },
    {
     "name": "stdout",
     "output_type": "stream",
     "text": [
      "tensor([[-11101.0039, -20341.2637],\n",
      "        [-11101.0039, -15820.9834],\n",
      "        [-11101.0039, -11300.7021],\n",
      "        [-11101.0039,  -6780.4209],\n",
      "        [-11101.0039,  -2260.1401],\n",
      "        [-11101.0039,   2260.1401],\n",
      "        [-11101.0039,   6780.4209],\n",
      "        [-11101.0039,  11300.7021],\n",
      "        [-11101.0039,  15820.9834],\n",
      "        [-11101.0039,  20341.2637],\n",
      "        [ -5550.5020, -20341.2637],\n",
      "        [ -5550.5020, -15820.9834],\n",
      "        [ -5550.5020, -11300.7021],\n",
      "        [ -5550.5020,  -6780.4209],\n",
      "        [ -5550.5020,  -2260.1401],\n",
      "        [ -5550.5020,   2260.1401],\n",
      "        [ -5550.5020,   6780.4209],\n",
      "        [ -5550.5020,  11300.7021],\n",
      "        [ -5550.5020,  15820.9834],\n",
      "        [ -5550.5020,  20341.2637],\n",
      "        [     0.0000, -20341.2637],\n",
      "        [     0.0000, -15820.9834],\n",
      "        [     0.0000, -11300.7021],\n",
      "        [     0.0000,  -6780.4209],\n",
      "        [     0.0000,  -2260.1401],\n",
      "        [     0.0000,   2260.1401],\n",
      "        [     0.0000,   6780.4209],\n",
      "        [     0.0000,  11300.7021],\n",
      "        [     0.0000,  15820.9834],\n",
      "        [     0.0000,  20341.2637],\n",
      "        [  5550.5020, -20341.2637],\n",
      "        [  5550.5020, -15820.9834],\n",
      "        [  5550.5020, -11300.7021],\n",
      "        [  5550.5020,  -6780.4209],\n",
      "        [  5550.5020,  -2260.1401],\n",
      "        [  5550.5020,   2260.1401],\n",
      "        [  5550.5020,   6780.4209],\n",
      "        [  5550.5020,  11300.7021],\n",
      "        [  5550.5020,  15820.9834],\n",
      "        [  5550.5020,  20341.2637],\n",
      "        [ 11101.0039, -20341.2637],\n",
      "        [ 11101.0039, -15820.9834],\n",
      "        [ 11101.0039, -11300.7021],\n",
      "        [ 11101.0039,  -6780.4209],\n",
      "        [ 11101.0039,  -2260.1401],\n",
      "        [ 11101.0039,   2260.1401],\n",
      "        [ 11101.0039,   6780.4209],\n",
      "        [ 11101.0039,  11300.7021],\n",
      "        [ 11101.0039,  15820.9834],\n",
      "        [ 11101.0039,  20341.2637]])\n"
     ]
    },
    {
     "name": "stderr",
     "output_type": "stream",
     "text": [
      "/root/TNDP_learning/venv/lib/python3.10/site-packages/shapely/constructive.py:857: RuntimeWarning: invalid value encountered in point_on_surface\n",
      "  return lib.point_on_surface(geometry, **kwargs)\n",
      "\u001b[32m2025-07-21 15:11:51.563\u001b[0m | \u001b[33m\u001b[1mWARNING \u001b[0m | \u001b[36miduedu.utils.utils\u001b[0m:\u001b[36mkeep_largest_strongly_connected_component\u001b[0m:\u001b[36m27\u001b[0m - \u001b[33m\u001b[1mGraph contains 12 weakly connected components. This means the graph has disconnected groups if edge directions are ignored. Component sizes:: [39, 1, 1, 1, 1, 1, 1, 1, 1, 1, 1, 1]\u001b[0m\n",
      "\u001b[32m2025-07-21 15:11:51.564\u001b[0m | \u001b[33m\u001b[1mWARNING \u001b[0m | \u001b[36miduedu.utils.utils\u001b[0m:\u001b[36mkeep_largest_strongly_connected_component\u001b[0m:\u001b[36m37\u001b[0m - \u001b[33m\u001b[1mRemoving 11 nodes from 11 smaller strongly connected components. These are subgraphs where nodes are internally reachable but isolated from the rest. Retaining only the largest strongly connected component (39 nodes).\u001b[0m\n"
     ]
    },
    {
     "name": "stdout",
     "output_type": "stream",
     "text": [
      "tensor([[-11101.0039, -20341.2637],\n",
      "        [-11101.0039, -15820.9834],\n",
      "        [-11101.0039, -11300.7021],\n",
      "        [-11101.0039,  -6780.4209],\n",
      "        [-11101.0039,  -2260.1401],\n",
      "        [-11101.0039,   2260.1401],\n",
      "        [-11101.0039,   6780.4209],\n",
      "        [-11101.0039,  11300.7021],\n",
      "        [-11101.0039,  15820.9834],\n",
      "        [-11101.0039,  20341.2637],\n",
      "        [ -5550.5020, -20341.2637],\n",
      "        [ -5550.5020, -15820.9834],\n",
      "        [ -5550.5020, -11300.7021],\n",
      "        [ -5550.5020,  -6780.4209],\n",
      "        [ -5550.5020,  -2260.1401],\n",
      "        [ -5550.5020,   2260.1401],\n",
      "        [ -5550.5020,   6780.4209],\n",
      "        [ -5550.5020,  11300.7021],\n",
      "        [ -5550.5020,  15820.9834],\n",
      "        [ -5550.5020,  20341.2637],\n",
      "        [     0.0000, -20341.2637],\n",
      "        [     0.0000, -15820.9834],\n",
      "        [     0.0000, -11300.7021],\n",
      "        [     0.0000,  -6780.4209],\n",
      "        [     0.0000,  -2260.1401],\n",
      "        [     0.0000,   2260.1401],\n",
      "        [     0.0000,   6780.4209],\n",
      "        [     0.0000,  11300.7021],\n",
      "        [     0.0000,  15820.9834],\n",
      "        [     0.0000,  20341.2637],\n",
      "        [  5550.5020, -20341.2637],\n",
      "        [  5550.5020, -15820.9834],\n",
      "        [  5550.5020, -11300.7021],\n",
      "        [  5550.5020,  -6780.4209],\n",
      "        [  5550.5020,  -2260.1401],\n",
      "        [  5550.5020,   2260.1401],\n",
      "        [  5550.5020,   6780.4209],\n",
      "        [  5550.5020,  11300.7021],\n",
      "        [  5550.5020,  15820.9834],\n",
      "        [  5550.5020,  20341.2637],\n",
      "        [ 11101.0039, -20341.2637],\n",
      "        [ 11101.0039, -15820.9834],\n",
      "        [ 11101.0039, -11300.7021],\n",
      "        [ 11101.0039,  -6780.4209],\n",
      "        [ 11101.0039,  -2260.1401],\n",
      "        [ 11101.0039,   2260.1401],\n",
      "        [ 11101.0039,   6780.4209],\n",
      "        [ 11101.0039,  11300.7021],\n",
      "        [ 11101.0039,  15820.9834],\n",
      "        [ 11101.0039,  20341.2637]])\n"
     ]
    },
    {
     "name": "stderr",
     "output_type": "stream",
     "text": [
      "/root/TNDP_learning/venv/lib/python3.10/site-packages/shapely/constructive.py:857: RuntimeWarning: invalid value encountered in point_on_surface\n",
      "  return lib.point_on_surface(geometry, **kwargs)\n",
      "/root/TNDP_learning/learning/utils.py:320: UserWarning: std(): degrees of freedom is <= 0. Correction should be strictly less than the reduction factor (input numel divided by output numel). (Triggered internally at /pytorch/aten/src/ATen/native/ReduceOps.cpp:1831.)\n",
      "  out_stats = (final_costs.mean(), final_costs.std(), metrics)\n",
      "\u001b[32m2025-07-21 15:11:51.881\u001b[0m | \u001b[33m\u001b[1mWARNING \u001b[0m | \u001b[36miduedu.utils.utils\u001b[0m:\u001b[36mkeep_largest_strongly_connected_component\u001b[0m:\u001b[36m27\u001b[0m - \u001b[33m\u001b[1mGraph contains 50 weakly connected components. This means the graph has disconnected groups if edge directions are ignored. Component sizes:: [1, 1, 1, 1, 1, 1, 1, 1, 1, 1, 1, 1, 1, 1, 1, 1, 1, 1, 1, 1, 1, 1, 1, 1, 1, 1, 1, 1, 1, 1, 1, 1, 1, 1, 1, 1, 1, 1, 1, 1, 1, 1, 1, 1, 1, 1, 1, 1, 1, 1]\u001b[0m\n",
      "\u001b[32m2025-07-21 15:11:51.882\u001b[0m | \u001b[33m\u001b[1mWARNING \u001b[0m | \u001b[36miduedu.utils.utils\u001b[0m:\u001b[36mkeep_largest_strongly_connected_component\u001b[0m:\u001b[36m37\u001b[0m - \u001b[33m\u001b[1mRemoving 49 nodes from 49 smaller strongly connected components. These are subgraphs where nodes are internally reachable but isolated from the rest. Retaining only the largest strongly connected component (1 nodes).\u001b[0m\n"
     ]
    },
    {
     "name": "stdout",
     "output_type": "stream",
     "text": [
      "tensor([[-31120.0469,  17941.7578],\n",
      "        [-24022.8047,  17586.7500],\n",
      "        [-16925.5605,  17231.7402],\n",
      "        [ -9828.3164,  16876.7324],\n",
      "        [ -2731.0742,  16521.7227],\n",
      "        [  4366.1709,  16166.7148],\n",
      "        [ 11463.4141,  15811.7061],\n",
      "        [ 18560.6582,  15456.6973],\n",
      "        [ 25657.9023,  15101.6885],\n",
      "        [ 32755.1445,  14746.6797],\n",
      "        [-31528.8223,   9769.6484],\n",
      "        [-24431.5801,   9414.6396],\n",
      "        [-17334.3359,   9059.6309],\n",
      "        [-10237.0908,   8704.6221],\n",
      "        [ -3139.8484,   8349.6133],\n",
      "        [  3957.3967,   7994.6050],\n",
      "        [ 11054.6396,   7639.5962],\n",
      "        [ 18151.8828,   7284.5874],\n",
      "        [ 25249.1270,   6929.5791],\n",
      "        [ 32346.3691,   6574.5703],\n",
      "        [-31937.5957,   1597.5392],\n",
      "        [-24840.3535,   1242.5305],\n",
      "        [-17743.1094,    887.5218],\n",
      "        [-10645.8652,    532.5131],\n",
      "        [ -3548.6226,    177.5044],\n",
      "        [  3548.6226,   -177.5044],\n",
      "        [ 10645.8652,   -532.5131],\n",
      "        [ 17743.1094,   -887.5218],\n",
      "        [ 24840.3535,  -1242.5305],\n",
      "        [ 31937.5957,  -1597.5392],\n",
      "        [-32346.3691,  -6574.5703],\n",
      "        [-25249.1270,  -6929.5791],\n",
      "        [-18151.8828,  -7284.5874],\n",
      "        [-11054.6396,  -7639.5962],\n",
      "        [ -3957.3967,  -7994.6050],\n",
      "        [  3139.8484,  -8349.6133],\n",
      "        [ 10237.0908,  -8704.6221],\n",
      "        [ 17334.3359,  -9059.6309],\n",
      "        [ 24431.5801,  -9414.6396],\n",
      "        [ 31528.8223,  -9769.6484],\n",
      "        [-32755.1445, -14746.6797],\n",
      "        [-25657.9023, -15101.6885],\n",
      "        [-18560.6582, -15456.6973],\n",
      "        [-11463.4141, -15811.7061],\n",
      "        [ -4366.1709, -16166.7148],\n",
      "        [  2731.0742, -16521.7227],\n",
      "        [  9828.3164, -16876.7324],\n",
      "        [ 16925.5605, -17231.7402],\n",
      "        [ 24022.8047, -17586.7500],\n",
      "        [ 31120.0469, -17941.7578]])\n"
     ]
    },
    {
     "name": "stderr",
     "output_type": "stream",
     "text": [
      "/root/TNDP_learning/venv/lib/python3.10/site-packages/shapely/constructive.py:857: RuntimeWarning: invalid value encountered in point_on_surface\n",
      "  return lib.point_on_surface(geometry, **kwargs)\n"
     ]
    },
    {
     "name": "stdout",
     "output_type": "stream",
     "text": [
      "tensor([[  9941.2109, -12057.4072],\n",
      "        [ -1546.8909,  16157.4512],\n",
      "        [ -5953.7446, -14069.9932],\n",
      "        [ -3238.2505, -16597.7617],\n",
      "        [  6995.1162,  -1179.6206],\n",
      "        [-18909.1641,  15582.6719],\n",
      "        [ 14025.1084,  13578.9238],\n",
      "        [  -632.9177,  -3162.4729],\n",
      "        [-17882.1758, -18920.6934],\n",
      "        [  7383.6367, -15917.3936],\n",
      "        [-11462.3672, -18280.6270],\n",
      "        [ -9414.2930,  -6264.9121],\n",
      "        [ 19661.6309,  -9351.1426],\n",
      "        [ -8929.1260, -12702.2246],\n",
      "        [ 17024.5586,   6201.1606],\n",
      "        [ 16099.0508,  17719.4219],\n",
      "        [-11891.3398,  -7379.4336],\n",
      "        [ -5307.8325,  18871.6816],\n",
      "        [ -8792.3691,  20796.9414],\n",
      "        [-15219.4609,  13784.3320],\n",
      "        [ -4526.0210,  12907.9814],\n",
      "        [  2563.5649, -10875.6338],\n",
      "        [ 17897.6211,  18145.6211],\n",
      "        [-12723.3877, -13542.7402],\n",
      "        [   855.5740, -17269.7148],\n",
      "        [ 16990.2617,  -2075.1917],\n",
      "        [ 16632.4023,   7347.0195],\n",
      "        [ 19030.9785, -19120.4238],\n",
      "        [ -2647.3726,  -2703.0452],\n",
      "        [ -1576.2993,  -7890.8799],\n",
      "        [-12911.9941, -19801.7832],\n",
      "        [  9636.0127, -11331.6367],\n",
      "        [  3745.6423,  19498.2051],\n",
      "        [-17619.2266, -15388.5430],\n",
      "        [ 21354.2168,   9857.1504],\n",
      "        [ -7498.6533,  -6363.7266],\n",
      "        [-13268.5986,  -5923.6851],\n",
      "        [ 17032.2910,   1345.4878],\n",
      "        [ 18075.6719,   -910.5927],\n",
      "        [ 17688.8887, -15737.6348],\n",
      "        [  6419.2617,   -836.8022],\n",
      "        [ 17949.3789,  19476.5039],\n",
      "        [-15907.4697,  -2125.8589],\n",
      "        [  7366.4253, -11614.3906],\n",
      "        [-10118.1113, -15850.9814],\n",
      "        [-11389.0674,  -7736.4438],\n",
      "        [  7733.0586,  -6172.3164],\n",
      "        [ 17481.7910,  10761.4375],\n",
      "        [ 11342.9463,   4815.6934],\n",
      "        [ -7171.2603, -20838.2129]])\n"
     ]
    },
    {
     "ename": "RuntimeError",
     "evalue": "Unable to determine UTM CRS",
     "output_type": "error",
     "traceback": [
      "\u001b[0;31m---------------------------------------------------------------------------\u001b[0m",
      "\u001b[0;31mIndexError\u001b[0m                                Traceback (most recent call last)",
      "File \u001b[0;32m~/TNDP_learning/venv/lib/python3.10/site-packages/geopandas/array.py:1198\u001b[0m, in \u001b[0;36mGeometryArray.estimate_utm_crs\u001b[0;34m(self, datum_name)\u001b[0m\n\u001b[1;32m   1197\u001b[0m \u001b[38;5;28;01mtry\u001b[39;00m:\n\u001b[0;32m-> 1198\u001b[0m     \u001b[38;5;28;01mreturn\u001b[39;00m CRS\u001b[38;5;241m.\u001b[39mfrom_epsg(\u001b[43mutm_crs_list\u001b[49m\u001b[43m[\u001b[49m\u001b[38;5;241;43m0\u001b[39;49m\u001b[43m]\u001b[49m\u001b[38;5;241m.\u001b[39mcode)\n\u001b[1;32m   1199\u001b[0m \u001b[38;5;28;01mexcept\u001b[39;00m \u001b[38;5;167;01mIndexError\u001b[39;00m:\n",
      "\u001b[0;31mIndexError\u001b[0m: list index out of range",
      "\nDuring handling of the above exception, another exception occurred:\n",
      "\u001b[0;31mRuntimeError\u001b[0m                              Traceback (most recent call last)",
      "Cell \u001b[0;32mIn[7], line 1\u001b[0m\n\u001b[0;32m----> 1\u001b[0m \u001b[43minductive_route_learning\u001b[49m\u001b[38;5;241;43m.\u001b[39;49m\u001b[43msetup_and_train\u001b[49m\u001b[43m(\u001b[49m\u001b[43mcfg\u001b[49m\u001b[43m)\u001b[49m\n",
      "File \u001b[0;32m~/TNDP_learning/learning/inductive_route_learning.py:814\u001b[0m, in \u001b[0;36msetup_and_train\u001b[0;34m(cfg, trial)\u001b[0m\n\u001b[1;32m    811\u001b[0m     checkpoint_dir\u001b[38;5;241m.\u001b[39mmkdir(parents\u001b[38;5;241m=\u001b[39m\u001b[38;5;28;01mTrue\u001b[39;00m)\n\u001b[1;32m    813\u001b[0m train_fn \u001b[38;5;241m=\u001b[39m train_ppo \u001b[38;5;28;01mif\u001b[39;00m \u001b[38;5;124m'\u001b[39m\u001b[38;5;124mppo\u001b[39m\u001b[38;5;124m'\u001b[39m \u001b[38;5;129;01min\u001b[39;00m cfg \u001b[38;5;28;01melse\u001b[39;00m train\n\u001b[0;32m--> 814\u001b[0m best_model, best_cost \u001b[38;5;241m=\u001b[39m \u001b[43mtrain_fn\u001b[49m\u001b[43m(\u001b[49m\n\u001b[1;32m    815\u001b[0m \u001b[43m    \u001b[49m\u001b[43mmodel\u001b[49m\u001b[43m,\u001b[49m\u001b[43m \u001b[49m\u001b[43mmin_n_routes\u001b[49m\u001b[43m,\u001b[49m\u001b[43m \u001b[49m\u001b[43mmax_n_routes\u001b[49m\u001b[43m,\u001b[49m\u001b[43m \u001b[49m\u001b[43mcfg\u001b[49m\u001b[43m,\u001b[49m\u001b[43m \u001b[49m\u001b[43moptimizer\u001b[49m\u001b[43m,\u001b[49m\u001b[43m \u001b[49m\u001b[43mtrain_dl\u001b[49m\u001b[43m,\u001b[49m\u001b[43m \u001b[49m\n\u001b[1;32m    816\u001b[0m \u001b[43m    \u001b[49m\u001b[43mval_dl\u001b[49m\u001b[43m,\u001b[49m\u001b[43m \u001b[49m\u001b[43mcost_obj\u001b[49m\u001b[43m,\u001b[49m\u001b[43m \u001b[49m\u001b[43meval_fn\u001b[49m\u001b[43m,\u001b[49m\u001b[43m \u001b[49m\u001b[43msumwriter\u001b[49m\u001b[38;5;241;43m=\u001b[39;49m\u001b[43msum_writer\u001b[49m\u001b[43m,\u001b[49m\u001b[43m \u001b[49m\u001b[43mdevice\u001b[49m\u001b[38;5;241;43m=\u001b[39;49m\u001b[43mDEVICE\u001b[49m\u001b[43m,\u001b[49m\u001b[43m \u001b[49m\n\u001b[1;32m    817\u001b[0m \u001b[43m    \u001b[49m\u001b[43moptuna_trial\u001b[49m\u001b[38;5;241;43m=\u001b[39;49m\u001b[43mtrial\u001b[49m\u001b[43m,\u001b[49m\u001b[43m \u001b[49m\u001b[43mcheckpoint_dir\u001b[49m\u001b[38;5;241;43m=\u001b[39;49m\u001b[43mcheckpoint_dir\u001b[49m\u001b[43m)\u001b[49m\n\u001b[1;32m    819\u001b[0m \u001b[38;5;66;03m# save the new trained model\u001b[39;00m\n\u001b[1;32m    820\u001b[0m torch\u001b[38;5;241m.\u001b[39msave(best_model\u001b[38;5;241m.\u001b[39mstate_dict(), output_dir \u001b[38;5;241m/\u001b[39m (run_name \u001b[38;5;241m+\u001b[39m \u001b[38;5;124m'\u001b[39m\u001b[38;5;124m.pt\u001b[39m\u001b[38;5;124m'\u001b[39m))\n",
      "File \u001b[0;32m~/TNDP_learning/learning/inductive_route_learning.py:380\u001b[0m, in \u001b[0;36mtrain_ppo\u001b[0;34m(model, min_n_routes, max_n_routes, cfg, optimizer, train_dataloader, val_dataloader, cost_obj, eval_fn, return_scale, sumwriter, optuna_trial, device, checkpoint_dir)\u001b[0m\n\u001b[1;32m    378\u001b[0m \u001b[38;5;28;01mif\u001b[39;00m cfg\u001b[38;5;241m.\u001b[39mdiff_reward:\n\u001b[1;32m    379\u001b[0m     \u001b[38;5;28;01mwith\u001b[39;00m torch\u001b[38;5;241m.\u001b[39mno_grad():\n\u001b[0;32m--> 380\u001b[0m         base_result \u001b[38;5;241m=\u001b[39m \u001b[43mcost_obj\u001b[49m\u001b[43m(\u001b[49m\u001b[43mstate\u001b[49m\u001b[43m)\u001b[49m\n\u001b[1;32m    381\u001b[0m         base_cost \u001b[38;5;241m=\u001b[39m base_result\u001b[38;5;241m.\u001b[39mcost\n\u001b[1;32m    382\u001b[0m         prev_cost \u001b[38;5;241m=\u001b[39m base_cost\n",
      "File \u001b[0;32m~/TNDP_learning/venv/lib/python3.10/site-packages/torch/nn/modules/module.py:1739\u001b[0m, in \u001b[0;36mModule._wrapped_call_impl\u001b[0;34m(self, *args, **kwargs)\u001b[0m\n\u001b[1;32m   1737\u001b[0m     \u001b[38;5;28;01mreturn\u001b[39;00m \u001b[38;5;28mself\u001b[39m\u001b[38;5;241m.\u001b[39m_compiled_call_impl(\u001b[38;5;241m*\u001b[39margs, \u001b[38;5;241m*\u001b[39m\u001b[38;5;241m*\u001b[39mkwargs)  \u001b[38;5;66;03m# type: ignore[misc]\u001b[39;00m\n\u001b[1;32m   1738\u001b[0m \u001b[38;5;28;01melse\u001b[39;00m:\n\u001b[0;32m-> 1739\u001b[0m     \u001b[38;5;28;01mreturn\u001b[39;00m \u001b[38;5;28;43mself\u001b[39;49m\u001b[38;5;241;43m.\u001b[39;49m\u001b[43m_call_impl\u001b[49m\u001b[43m(\u001b[49m\u001b[38;5;241;43m*\u001b[39;49m\u001b[43margs\u001b[49m\u001b[43m,\u001b[49m\u001b[43m \u001b[49m\u001b[38;5;241;43m*\u001b[39;49m\u001b[38;5;241;43m*\u001b[39;49m\u001b[43mkwargs\u001b[49m\u001b[43m)\u001b[49m\n",
      "File \u001b[0;32m~/TNDP_learning/venv/lib/python3.10/site-packages/torch/nn/modules/module.py:1750\u001b[0m, in \u001b[0;36mModule._call_impl\u001b[0;34m(self, *args, **kwargs)\u001b[0m\n\u001b[1;32m   1745\u001b[0m \u001b[38;5;66;03m# If we don't have any hooks, we want to skip the rest of the logic in\u001b[39;00m\n\u001b[1;32m   1746\u001b[0m \u001b[38;5;66;03m# this function, and just call forward.\u001b[39;00m\n\u001b[1;32m   1747\u001b[0m \u001b[38;5;28;01mif\u001b[39;00m \u001b[38;5;129;01mnot\u001b[39;00m (\u001b[38;5;28mself\u001b[39m\u001b[38;5;241m.\u001b[39m_backward_hooks \u001b[38;5;129;01mor\u001b[39;00m \u001b[38;5;28mself\u001b[39m\u001b[38;5;241m.\u001b[39m_backward_pre_hooks \u001b[38;5;129;01mor\u001b[39;00m \u001b[38;5;28mself\u001b[39m\u001b[38;5;241m.\u001b[39m_forward_hooks \u001b[38;5;129;01mor\u001b[39;00m \u001b[38;5;28mself\u001b[39m\u001b[38;5;241m.\u001b[39m_forward_pre_hooks\n\u001b[1;32m   1748\u001b[0m         \u001b[38;5;129;01mor\u001b[39;00m _global_backward_pre_hooks \u001b[38;5;129;01mor\u001b[39;00m _global_backward_hooks\n\u001b[1;32m   1749\u001b[0m         \u001b[38;5;129;01mor\u001b[39;00m _global_forward_hooks \u001b[38;5;129;01mor\u001b[39;00m _global_forward_pre_hooks):\n\u001b[0;32m-> 1750\u001b[0m     \u001b[38;5;28;01mreturn\u001b[39;00m \u001b[43mforward_call\u001b[49m\u001b[43m(\u001b[49m\u001b[38;5;241;43m*\u001b[39;49m\u001b[43margs\u001b[49m\u001b[43m,\u001b[49m\u001b[43m \u001b[49m\u001b[38;5;241;43m*\u001b[39;49m\u001b[38;5;241;43m*\u001b[39;49m\u001b[43mkwargs\u001b[49m\u001b[43m)\u001b[49m\n\u001b[1;32m   1752\u001b[0m result \u001b[38;5;241m=\u001b[39m \u001b[38;5;28;01mNone\u001b[39;00m\n\u001b[1;32m   1753\u001b[0m called_always_called_hooks \u001b[38;5;241m=\u001b[39m \u001b[38;5;28mset\u001b[39m()\n",
      "File \u001b[0;32m~/TNDP_learning/simulation/transit_time_estimator.py:1109\u001b[0m, in \u001b[0;36mMyCostModule.forward\u001b[0;34m(self, state, constraint_weight, no_norm, return_per_route_riders)\u001b[0m\n\u001b[1;32m   1107\u001b[0m \u001b[38;5;28;01mdef\u001b[39;00m\u001b[38;5;250m \u001b[39m\u001b[38;5;21mforward\u001b[39m(\u001b[38;5;28mself\u001b[39m, state, constraint_weight\u001b[38;5;241m=\u001b[39m\u001b[38;5;28;01mNone\u001b[39;00m, no_norm\u001b[38;5;241m=\u001b[39m\u001b[38;5;28;01mFalse\u001b[39;00m, \n\u001b[1;32m   1108\u001b[0m             return_per_route_riders\u001b[38;5;241m=\u001b[39m\u001b[38;5;28;01mFalse\u001b[39;00m):\n\u001b[0;32m-> 1109\u001b[0m     cho \u001b[38;5;241m=\u001b[39m \u001b[38;5;28;43mself\u001b[39;49m\u001b[38;5;241;43m.\u001b[39;49m\u001b[43m_cost_helper\u001b[49m\u001b[43m(\u001b[49m\u001b[43mstate\u001b[49m\u001b[43m,\u001b[49m\u001b[43m \u001b[49m\u001b[43mreturn_per_route_riders\u001b[49m\u001b[43m)\u001b[49m\n\u001b[1;32m   1110\u001b[0m     cost_weights \u001b[38;5;241m=\u001b[39m state\u001b[38;5;241m.\u001b[39mcost_weights\n\u001b[1;32m   1111\u001b[0m     \u001b[38;5;28;01mif\u001b[39;00m \u001b[38;5;124m'\u001b[39m\u001b[38;5;124mdemand_time_weight\u001b[39m\u001b[38;5;124m'\u001b[39m \u001b[38;5;129;01min\u001b[39;00m cost_weights:\n",
      "File \u001b[0;32m~/TNDP_learning/simulation/transit_time_estimator.py:960\u001b[0m, in \u001b[0;36mCostModule._cost_helper\u001b[0;34m(self, state, return_per_route_riders)\u001b[0m\n\u001b[1;32m    955\u001b[0m gdf \u001b[38;5;241m=\u001b[39m gpd\u001b[38;5;241m.\u001b[39mGeoDataFrame(\n\u001b[1;32m    956\u001b[0m     geometry\u001b[38;5;241m=\u001b[39mgpd\u001b[38;5;241m.\u001b[39mpoints_from_xy(coords[:, \u001b[38;5;241m0\u001b[39m], coords[:, \u001b[38;5;241m1\u001b[39m]),\n\u001b[1;32m    957\u001b[0m     crs\u001b[38;5;241m=\u001b[39m\u001b[38;5;124m\"\u001b[39m\u001b[38;5;124mEPSG:4326\u001b[39m\u001b[38;5;124m\"\u001b[39m\n\u001b[1;32m    958\u001b[0m )\n\u001b[1;32m    959\u001b[0m \u001b[38;5;28mprint\u001b[39m(coords)\n\u001b[0;32m--> 960\u001b[0m crs \u001b[38;5;241m=\u001b[39m \u001b[43mgdf\u001b[49m\u001b[38;5;241;43m.\u001b[39;49m\u001b[43mestimate_utm_crs\u001b[49m\u001b[43m(\u001b[49m\u001b[43m)\u001b[49m\n\u001b[1;32m    961\u001b[0m gdf \u001b[38;5;241m=\u001b[39m gdf\u001b[38;5;241m.\u001b[39mto_crs(crs)\n\u001b[1;32m    963\u001b[0m \u001b[38;5;66;03m# Get transit times for current batch\u001b[39;00m\n",
      "File \u001b[0;32m~/TNDP_learning/venv/lib/python3.10/site-packages/geopandas/geodataframe.py:1888\u001b[0m, in \u001b[0;36mGeoDataFrame.estimate_utm_crs\u001b[0;34m(self, datum_name)\u001b[0m\n\u001b[1;32m   1852\u001b[0m \u001b[38;5;28;01mdef\u001b[39;00m\u001b[38;5;250m \u001b[39m\u001b[38;5;21mestimate_utm_crs\u001b[39m(\u001b[38;5;28mself\u001b[39m, datum_name: \u001b[38;5;28mstr\u001b[39m \u001b[38;5;241m=\u001b[39m \u001b[38;5;124m\"\u001b[39m\u001b[38;5;124mWGS 84\u001b[39m\u001b[38;5;124m\"\u001b[39m) \u001b[38;5;241m-\u001b[39m\u001b[38;5;241m>\u001b[39m CRS:\n\u001b[1;32m   1853\u001b[0m \u001b[38;5;250m    \u001b[39m\u001b[38;5;124;03m\"\"\"Return the estimated UTM CRS based on the bounds of the dataset.\u001b[39;00m\n\u001b[1;32m   1854\u001b[0m \n\u001b[1;32m   1855\u001b[0m \u001b[38;5;124;03m    .. versionadded:: 0.9\u001b[39;00m\n\u001b[0;32m   (...)\u001b[0m\n\u001b[1;32m   1886\u001b[0m \u001b[38;5;124;03m    - Prime Meridian: Greenwich\u001b[39;00m\n\u001b[1;32m   1887\u001b[0m \u001b[38;5;124;03m    \"\"\"\u001b[39;00m\n\u001b[0;32m-> 1888\u001b[0m     \u001b[38;5;28;01mreturn\u001b[39;00m \u001b[38;5;28;43mself\u001b[39;49m\u001b[38;5;241;43m.\u001b[39;49m\u001b[43mgeometry\u001b[49m\u001b[38;5;241;43m.\u001b[39;49m\u001b[43mestimate_utm_crs\u001b[49m\u001b[43m(\u001b[49m\u001b[43mdatum_name\u001b[49m\u001b[38;5;241;43m=\u001b[39;49m\u001b[43mdatum_name\u001b[49m\u001b[43m)\u001b[49m\n",
      "File \u001b[0;32m~/TNDP_learning/venv/lib/python3.10/site-packages/geopandas/geoseries.py:1290\u001b[0m, in \u001b[0;36mGeoSeries.estimate_utm_crs\u001b[0;34m(self, datum_name)\u001b[0m\n\u001b[1;32m   1254\u001b[0m \u001b[38;5;28;01mdef\u001b[39;00m\u001b[38;5;250m \u001b[39m\u001b[38;5;21mestimate_utm_crs\u001b[39m(\u001b[38;5;28mself\u001b[39m, datum_name: \u001b[38;5;28mstr\u001b[39m \u001b[38;5;241m=\u001b[39m \u001b[38;5;124m\"\u001b[39m\u001b[38;5;124mWGS 84\u001b[39m\u001b[38;5;124m\"\u001b[39m):\n\u001b[1;32m   1255\u001b[0m \u001b[38;5;250m    \u001b[39m\u001b[38;5;124;03m\"\"\"Return the estimated UTM CRS based on the bounds of the dataset.\u001b[39;00m\n\u001b[1;32m   1256\u001b[0m \n\u001b[1;32m   1257\u001b[0m \u001b[38;5;124;03m    .. versionadded:: 0.9\u001b[39;00m\n\u001b[0;32m   (...)\u001b[0m\n\u001b[1;32m   1288\u001b[0m \u001b[38;5;124;03m    - Prime Meridian: Greenwich\u001b[39;00m\n\u001b[1;32m   1289\u001b[0m \u001b[38;5;124;03m    \"\"\"\u001b[39;00m\n\u001b[0;32m-> 1290\u001b[0m     \u001b[38;5;28;01mreturn\u001b[39;00m \u001b[38;5;28;43mself\u001b[39;49m\u001b[38;5;241;43m.\u001b[39;49m\u001b[43mvalues\u001b[49m\u001b[38;5;241;43m.\u001b[39;49m\u001b[43mestimate_utm_crs\u001b[49m\u001b[43m(\u001b[49m\u001b[43mdatum_name\u001b[49m\u001b[43m)\u001b[49m\n",
      "File \u001b[0;32m~/TNDP_learning/venv/lib/python3.10/site-packages/geopandas/_compat.py:85\u001b[0m, in \u001b[0;36mrequires_pyproj.<locals>.wrapper\u001b[0;34m(*args, **kwargs)\u001b[0m\n\u001b[1;32m     79\u001b[0m \u001b[38;5;28;01mif\u001b[39;00m \u001b[38;5;129;01mnot\u001b[39;00m HAS_PYPROJ:\n\u001b[1;32m     80\u001b[0m     \u001b[38;5;28;01mraise\u001b[39;00m \u001b[38;5;167;01mImportError\u001b[39;00m(\n\u001b[1;32m     81\u001b[0m         \u001b[38;5;124mf\u001b[39m\u001b[38;5;124m\"\u001b[39m\u001b[38;5;124mThe \u001b[39m\u001b[38;5;124m'\u001b[39m\u001b[38;5;124mpyproj\u001b[39m\u001b[38;5;124m'\u001b[39m\u001b[38;5;124m package is required for \u001b[39m\u001b[38;5;132;01m{\u001b[39;00mfunc\u001b[38;5;241m.\u001b[39m\u001b[38;5;18m__name__\u001b[39m\u001b[38;5;132;01m}\u001b[39;00m\u001b[38;5;124m to work. \u001b[39m\u001b[38;5;124m\"\u001b[39m\n\u001b[1;32m     82\u001b[0m         \u001b[38;5;124m\"\u001b[39m\u001b[38;5;124mInstall it and initialize the object with a CRS before using it.\u001b[39m\u001b[38;5;124m\"\u001b[39m\n\u001b[1;32m     83\u001b[0m         \u001b[38;5;124mf\u001b[39m\u001b[38;5;124m\"\u001b[39m\u001b[38;5;130;01m\\n\u001b[39;00m\u001b[38;5;124mImporting pyproj resulted in: \u001b[39m\u001b[38;5;132;01m{\u001b[39;00mpyproj_import_error\u001b[38;5;132;01m}\u001b[39;00m\u001b[38;5;124m\"\u001b[39m\n\u001b[1;32m     84\u001b[0m     )\n\u001b[0;32m---> 85\u001b[0m \u001b[38;5;28;01mreturn\u001b[39;00m \u001b[43mfunc\u001b[49m\u001b[43m(\u001b[49m\u001b[38;5;241;43m*\u001b[39;49m\u001b[43margs\u001b[49m\u001b[43m,\u001b[49m\u001b[43m \u001b[49m\u001b[38;5;241;43m*\u001b[39;49m\u001b[38;5;241;43m*\u001b[39;49m\u001b[43mkwargs\u001b[49m\u001b[43m)\u001b[49m\n",
      "File \u001b[0;32m~/TNDP_learning/venv/lib/python3.10/site-packages/geopandas/array.py:1200\u001b[0m, in \u001b[0;36mGeometryArray.estimate_utm_crs\u001b[0;34m(self, datum_name)\u001b[0m\n\u001b[1;32m   1198\u001b[0m     \u001b[38;5;28;01mreturn\u001b[39;00m CRS\u001b[38;5;241m.\u001b[39mfrom_epsg(utm_crs_list[\u001b[38;5;241m0\u001b[39m]\u001b[38;5;241m.\u001b[39mcode)\n\u001b[1;32m   1199\u001b[0m \u001b[38;5;28;01mexcept\u001b[39;00m \u001b[38;5;167;01mIndexError\u001b[39;00m:\n\u001b[0;32m-> 1200\u001b[0m     \u001b[38;5;28;01mraise\u001b[39;00m \u001b[38;5;167;01mRuntimeError\u001b[39;00m(\u001b[38;5;124m\"\u001b[39m\u001b[38;5;124mUnable to determine UTM CRS\u001b[39m\u001b[38;5;124m\"\u001b[39m)\n",
      "\u001b[0;31mRuntimeError\u001b[0m: Unable to determine UTM CRS"
     ]
    }
   ],
   "source": [
    "inductive_route_learning.setup_and_train(cfg)"
   ]
  },
  {
   "cell_type": "markdown",
   "id": "a26df41c",
   "metadata": {},
   "source": [
    "### Evaluation "
   ]
  },
  {
   "cell_type": "code",
   "execution_count": null,
   "id": "9bd24d85",
   "metadata": {},
   "outputs": [],
   "source": [
    "with initialize_config_dir(config_dir=\"/root/TNDP_learning/cfg\", job_name=\"app\"):\n",
    "    cfg = compose(config_name=\"ppo_20nodes_copy.yaml\",\n",
    "                  overrides=[\n",
    "                      \"++model.weights=/root/TNDP_learning/output/inductive_gae_seed_1.pt\",\n",
    "                      \"++eval.dataset.path=/root/TNDP_learning/CEC2013Supp/Instances\",\n",
    "                      \"+eval=mandl\",\n",
    "                      \"+run_name=my_mandl_lc100_2\"\n",
    "                  ])"
   ]
  },
  {
   "cell_type": "code",
   "execution_count": null,
   "id": "cc5feddc",
   "metadata": {},
   "outputs": [],
   "source": [
    "cfg"
   ]
  },
  {
   "cell_type": "code",
   "execution_count": null,
   "id": "20953579",
   "metadata": {},
   "outputs": [],
   "source": [
    "DEVICE, run_name, _, cost_obj, model = eval_route_generator.lrnu.process_standard_experiment_cfg(\n",
    "    cfg, 'nn_construction_', weights_required=True\n",
    ")\n",
    "\n",
    "test_ds = eval_route_generator.get_dataset_from_config(cfg.eval.dataset)\n",
    "test_dl = eval_route_generator.DataLoader(test_ds, batch_size=cfg.batch_size)\n",
    "\n",
    "n_samples = cfg.get('n_samples', None)\n",
    "sbs = cfg.get('sample_batch_size', cfg.batch_size)\n",
    "_, _, routes = eval_route_generator.eval_model(\n",
    "    model, test_dl, cfg.eval, cost_obj,\n",
    "    n_samples=n_samples, sample_batch_size=sbs, return_routes=True,\n",
    "    device=DEVICE\n",
    ")\n",
    "\n",
    "eval_route_generator.dump_routes(run_name, routes.cpu())"
   ]
  },
  {
   "cell_type": "code",
   "execution_count": null,
   "id": "ca4323b2",
   "metadata": {},
   "outputs": [],
   "source": [
    "with open(\"/root/TNDP_learning/output_routes/nn_construction_my_mandl_lc100_2_routes.pkl\", \"rb\") as f:\n",
    "    routes = pickle.load(f)"
   ]
  },
  {
   "cell_type": "code",
   "execution_count": null,
   "id": "cf9d7947",
   "metadata": {},
   "outputs": [],
   "source": [
    "routes"
   ]
  },
  {
   "cell_type": "code",
   "execution_count": null,
   "id": "53edfbf5",
   "metadata": {},
   "outputs": [],
   "source": [
    "import torch\n",
    "\n",
    "node_locs = []\n",
    "with open(\"/root/TNDP_learning/CEC2013Supp/Instances/MandlCoords.txt\") as f:\n",
    "    lines = f.readlines()\n",
    "    # Пропускаем первую строку (число узлов)\n",
    "    for line in lines[1:]:\n",
    "        parts = line.strip().split()\n",
    "        if len(parts) == 2:\n",
    "            x, y = float(parts[0]), float(parts[1])\n",
    "            node_locs.append([x, y])\n",
    "node_locs = torch.tensor(node_locs, dtype=torch.float)\n",
    "print(node_locs.shape)  # Должно быть (15, 2)"
   ]
  },
  {
   "cell_type": "code",
   "execution_count": null,
   "id": "6ca2a00a",
   "metadata": {},
   "outputs": [],
   "source": [
    "graph = torch.load(\"/root/TNDP_learning/output_graphs/mixed/processed/pre_transform.pt\")"
   ]
  },
  {
   "cell_type": "code",
   "execution_count": null,
   "id": "39a9e5af",
   "metadata": {},
   "outputs": [],
   "source": [
    "type(graph)"
   ]
  },
  {
   "cell_type": "code",
   "execution_count": null,
   "id": "5107499c",
   "metadata": {},
   "outputs": [],
   "source": [
    "node_locs = graph[1]['stop']['pos']\n",
    "print(node_locs.shape)"
   ]
  },
  {
   "cell_type": "code",
   "execution_count": null,
   "id": "69969c40",
   "metadata": {},
   "outputs": [],
   "source": [
    "print(type(routes))\n",
    "print(len(routes))\n",
    "print(routes[0].shape)\n",
    "print(routes[0])"
   ]
  },
  {
   "cell_type": "code",
   "execution_count": null,
   "id": "2632416e",
   "metadata": {},
   "outputs": [],
   "source": [
    "routes_tensor = routes[0]  # если routes — список из одного элемента\n",
    "routes_list = []\n",
    "for row in routes_tensor:\n",
    "    route = row[row != -1]  # убираем паддинги\n",
    "    routes_list.append(route)"
   ]
  },
  {
   "cell_type": "code",
   "execution_count": null,
   "id": "1abd468d",
   "metadata": {},
   "outputs": [],
   "source": [
    "import matplotlib.pyplot as plt\n",
    "fig, ax = plt.subplots(figsize=(10, 10))"
   ]
  },
  {
   "cell_type": "code",
   "execution_count": null,
   "id": "4bc7ea4f",
   "metadata": {},
   "outputs": [],
   "source": [
    "!python 'learning/eval_route_generator.py' --help "
   ]
  },
  {
   "cell_type": "code",
   "execution_count": null,
   "id": "f171e6b0",
   "metadata": {},
   "outputs": [],
   "source": [
    "config = {\n",
    "    'experiment': {\n",
    "        'logdir': None,\n",
    "        'anomaly': False,\n",
    "        'cpu': False,\n",
    "        'seed': 0,\n",
    "        'symmetric_routes': True,\n",
    "        'cost_function': {\n",
    "            'type': 'mine',\n",
    "            'kwargs': {\n",
    "                'mean_stop_time_s': 0,\n",
    "                'avg_transfer_wait_time_s': 300,\n",
    "                'demand_time_weight': 0.5,\n",
    "                'route_time_weight': 0.5,\n",
    "                'constraint_violation_weight': 5.0,\n",
    "                'variable_weights': True,\n",
    "                'pp_fraction': 0.33,\n",
    "                'op_fraction': 0.33\n",
    "            }\n",
    "        }\n",
    "    },\n",
    "    'model': {\n",
    "        'common': {\n",
    "            'dropout': 0.0,\n",
    "            'nonlin_type': 'ReLU',\n",
    "            'embed_dim': 64\n",
    "        },\n",
    "        'route_generator': {\n",
    "            'type': 'PathCombiningRouteGenerator',\n",
    "            'kwargs': {\n",
    "                'force_linking_unlinked': False,\n",
    "                'logit_clip': None,\n",
    "                'n_nodepair_layers': 3,\n",
    "                'n_pathscorer_layers': 3,\n",
    "                'pathscorer_hidden_dim': 16,\n",
    "                'n_halt_layers': 3,\n",
    "                'halt_scorer_type': 'endpoints',\n",
    "                'serial_halting': True\n",
    "            }\n",
    "        },\n",
    "        'backbone_gn': {\n",
    "            'net_type': 'graph attn',\n",
    "            'kwargs': {\n",
    "                'n_layers': 5,\n",
    "                'in_node_dim': 4,\n",
    "                'in_edge_dim': 13,\n",
    "                'use_norm': False,\n",
    "                'n_heads': 4,\n",
    "                'dense': False\n",
    "            }\n",
    "        },\n",
    "        'weights': '/Users/sashamorozov/Documents/Code/GNN/TNDP_learning/output/inductive_30_06_2025_18_12_45.pt'\n",
    "    },\n",
    "    'n_samples': 100,\n",
    "    'batch_size': 512,\n",
    "    'eval': {\n",
    "        'csv': True,\n",
    "        'n_routes': 6,\n",
    "        'min_route_len': 2,\n",
    "        'max_route_len': 8,\n",
    "        'dataset': {\n",
    "            'type': 'mumford',\n",
    "            'path': '/Users/sashamorozov/Documents/Code/GNN/TNDP_learning/CEC2013Supp-2/Instances',\n",
    "            'city': 'Mandl'\n",
    "        }\n",
    "    },\n",
    "    'run_name': 'my_mandl_lc100_2'\n",
    "}"
   ]
  },
  {
   "cell_type": "markdown",
   "id": "a277c313",
   "metadata": {},
   "source": [
    "### Бэнчмарк граф "
   ]
  },
  {
   "cell_type": "code",
   "execution_count": null,
   "id": "0ff1182b",
   "metadata": {},
   "outputs": [],
   "source": [
    "!python 'learning/eval_route_generator.py' +model.weights=/Users/sashamorozov/Documents/Code/GNN/TNDP_learning/output/inductive_30_06_2025_18_12_45.pt \\\n",
    "    eval.dataset.path=/Users/sashamorozov/Documents/Code/GNN/TNDP_learning/datasets/mumford_dataset/Instances \\\n",
    "    +eval=mandl +run_name=mandl_lc100_test"
   ]
  },
  {
   "cell_type": "code",
   "execution_count": null,
   "id": "f4d31d6f",
   "metadata": {},
   "outputs": [],
   "source": [
    "!python -m scripts.data_display.plot_generated_networks cfg/eval/mandl.yaml \\\n",
    "    --routes output_routes/neural_bco_14_07_2025_17:58:20_routes.pkl \\\n",
    "    -o plots/mandl_routes_test_neural_bco.png"
   ]
  },
  {
   "cell_type": "code",
   "execution_count": null,
   "id": "95f59213",
   "metadata": {},
   "outputs": [],
   "source": [
    "!python learning/bee_colony.py eval.dataset.path=/Users/sashamorozov/Documents/Code/GNN/TNDP_learning/datasets/mumford_dataset/Instances \\\n",
    "    +eval=mandl \\\n",
    "    init.path=output_routes/nn_construction_mandl_lc100_test_routes.pkl"
   ]
  },
  {
   "cell_type": "code",
   "execution_count": null,
   "id": "7183ac4c",
   "metadata": {},
   "outputs": [],
   "source": [
    "!pip install IduEdu"
   ]
  },
  {
   "cell_type": "code",
   "execution_count": null,
   "id": "7e634115",
   "metadata": {},
   "outputs": [],
   "source": [
    "!python learning/bee_colony.py -h"
   ]
  },
  {
   "cell_type": "code",
   "execution_count": null,
   "id": "00c04e12",
   "metadata": {},
   "outputs": [],
   "source": [
    "!python learning/bee_colony.py --config-name neural_bco_mumford \\\n",
    "    +model.weights=/Users/sashamorozov/Documents/Code/GNN/TNDP_learning/output/inductive_30_06_2025_18_12_45.pt \\\n",
    "    eval.dataset.path=/Users/sashamorozov/Documents/Code/GNN/TNDP_learning/datasets/mumford_dataset/Instances \\\n",
    "    +eval=mandl \\\n",
    "    init.path=output_routes/nn_construction_mandl_lc100_test_routes.pkl \\\n",
    "    >> bco_test_pareto.csv"
   ]
  },
  {
   "cell_type": "markdown",
   "id": "ef9cde5a",
   "metadata": {},
   "source": [
    "### Vaska"
   ]
  },
  {
   "cell_type": "code",
   "execution_count": null,
   "id": "3660b136",
   "metadata": {},
   "outputs": [],
   "source": [
    "!python 'learning/eval_route_generator.py' +model.weights=/Users/sashamorozov/Documents/Code/GNN/TNDP_learning/output/inductive_30_06_2025_18_12_45.pt \\\n",
    "    eval.dataset.path=/Users/sashamorozov/Documents/Code/GNN/TNDP_learning/datasets/vo_dataset \\\n",
    "    +eval=VO +run_name=vo_test \\\n",
    "    n_samples=100 \n"
   ]
  },
  {
   "cell_type": "code",
   "execution_count": null,
   "id": "475bd2c0",
   "metadata": {},
   "outputs": [],
   "source": [
    "!python learning/bee_colony.py eval.dataset.path=/Users/sashamorozov/Documents/Code/GNN/TNDP_learning/datasets/vo_dataset \\\n",
    "    +eval=VO \\\n",
    "    init.path=output_routes/nn_construction_vo_test_routes.pkl"
   ]
  },
  {
   "cell_type": "code",
   "execution_count": null,
   "id": "b97e43cf",
   "metadata": {},
   "outputs": [],
   "source": [
    "!python learning/bee_colony.py --config-name neural_bco_mumford \\\n",
    "    +model.weights=/Users/sashamorozov/Documents/Code/GNN/TNDP_learning/output/inductive_30_06_2025_18_12_45.pt \\\n",
    "    eval.dataset.path=/Users/sashamorozov/Documents/Code/GNN/TNDP_learning/datasets/vo_dataset \\\n",
    "    +eval=VO \\\n",
    "    init.path=output_routes/nn_construction_vo_test_routes.pkl "
   ]
  },
  {
   "cell_type": "code",
   "execution_count": null,
   "id": "728ed224",
   "metadata": {},
   "outputs": [],
   "source": [
    "!python 'learning/eval_route_generator.py' -h"
   ]
  },
  {
   "cell_type": "code",
   "execution_count": null,
   "id": "3d51a7e7",
   "metadata": {},
   "outputs": [],
   "source": [
    "!python -m scripts.data_display.plot_generated_networks --help"
   ]
  },
  {
   "cell_type": "code",
   "execution_count": null,
   "id": "c09d1365",
   "metadata": {},
   "outputs": [],
   "source": [
    "!python -m scripts.data_display.plot_generated_networks cfg/eval/mandl.yaml \\\n",
    "    --routes output_routes/.pkl \\\n",
    "    -o plots/mandl_routes.png"
   ]
  },
  {
   "cell_type": "code",
   "execution_count": null,
   "id": "78df9003",
   "metadata": {},
   "outputs": [],
   "source": [
    "!python -m scripts.data_display.plot_generated_networks cfg/eval/vo.yaml \\\n",
    "    --routes output_routes/neural_bco_15_07_2025_16:10:08_routes.pkl \\\n",
    "    -o plots/vo_routes_test_bco_neural.png"
   ]
  },
  {
   "cell_type": "code",
   "execution_count": null,
   "id": "db4a48c4",
   "metadata": {},
   "outputs": [],
   "source": [
    "!python -m scripts.data_display.plot_pareto \\\n",
    "    VO_pareto.csv \\\n",
    "    -o pareto.png"
   ]
  }
 ],
 "metadata": {
  "kernelspec": {
   "display_name": "venv",
   "language": "python",
   "name": "python3"
  },
  "language_info": {
   "codemirror_mode": {
    "name": "ipython",
    "version": 3
   },
   "file_extension": ".py",
   "mimetype": "text/x-python",
   "name": "python",
   "nbconvert_exporter": "python",
   "pygments_lexer": "ipython3",
   "version": "3.10.18"
  }
 },
 "nbformat": 4,
 "nbformat_minor": 5
}
