{
 "cells": [
  {
   "cell_type": "code",
   "execution_count": null,
   "id": "f2425fcc",
   "metadata": {},
   "outputs": [],
   "source": [
    "import torch\n",
    "import shutil\n",
    "import pickle\n",
    "\n",
    "from simulation import citygraph_dataset\n",
    "# from learning import inductive_route_learning, eval_route_generator, bee_colony\n",
    "from learning.bee_colony import main as main_bee  # я так обозвал\n",
    "from learning.eval_route_generator import main as main_eval # я так обозвал\n",
    "from omegaconf import OmegaConf, DictConfig\n",
    "from simulation import drawing\n",
    "\n",
    "from tqdm import tqdm\n",
    "from pathlib import Path"
   ]
  },
  {
   "cell_type": "code",
   "execution_count": null,
   "id": "a99fa3c5",
   "metadata": {},
   "outputs": [],
   "source": [
    "from hydra import initialize_config_dir, compose\n",
    "from omegaconf import OmegaConf\n",
    "import os\n",
    "\n",
    "cfg_dir = os.path.abspath(\"../TNDP_learning/cfg\")"
   ]
  },
  {
   "cell_type": "markdown",
   "id": "b1dd387e",
   "metadata": {},
   "source": [
    "### Обучение LC"
   ]
  },
  {
   "cell_type": "code",
   "execution_count": 4,
   "id": "f734226f",
   "metadata": {},
   "outputs": [
    {
     "name": "stderr",
     "output_type": "stream",
     "text": [
      "/tmp/ipykernel_3081/3896539573.py:1: UserWarning: \n",
      "The version_base parameter is not specified.\n",
      "Please specify a compatability version level, or None.\n",
      "Will assume defaults for version 1.1\n",
      "  with initialize_config_dir(config_dir=cfg_dir, job_name=\"app\"):\n"
     ]
    }
   ],
   "source": [
    "with initialize_config_dir(config_dir=cfg_dir, job_name=\"app\"):\n",
    "    cfg_learn = compose(config_name=\"ppo_20nodes_copy.yaml\", # в этот файл можно положить путь к пикл файлу с графами, также можно попробовать другие параметры на обучение\n",
    "                            overrides=[\"+run_name=train_1\"]) # при желании можно накинуть ему имя \n"
   ]
  },
  {
   "cell_type": "code",
   "execution_count": 5,
   "id": "a5c49cf9",
   "metadata": {},
   "outputs": [
    {
     "data": {
      "text/plain": [
       "{'ppo': {'n_iterations': 200, 'val_period': 1, 'n_epochs': 1, 'minibatch_size': 2, 'horizon': 120, 'epsilon': 0.2, 'use_gae': True, 'gae_lambda': 0.95}, 'discount_rate': 0.95, 'diff_reward': True, 'baseline_lr': 0.0005, 'entropy_weight': 0.0, 'batch_size': 2, 'reward_scale': 1.0, 'lr': 0.0016134816080499328, 'decay': 0.0008404361781997002, 'optimizer': 'Adam', 'eval': {'n_routes': 10, 'min_route_len': 8, 'max_route_len': 10}, 'dataset': {'type': 'mumford', 'path': '/root/TNDP_learning/CEC2013Supp/Instances', 'city': 'VO'}, 'experiment': {'logdir': 'training_logs', 'anomaly': False, 'cpu': False, 'seed': 0, 'symmetric_routes': True, 'cost_function': {'type': 'mine', 'kwargs': {'mean_stop_time_s': 0, 'avg_transfer_wait_time_s': 300, 'demand_time_weight': 0.33, 'route_time_weight': 0.33, 'median_connectivity_weight': 0.33, 'constraint_violation_weight': 5.0, 'variable_weights': True, 'pp_fraction': 0.33, 'op_fraction': 0.33}}}, 'model': {'common': {'dropout': 0.0, 'nonlin_type': 'ReLU', 'embed_dim': 64}, 'route_generator': {'kwargs': {'force_linking_unlinked': False, 'logit_clip': None, 'n_nodepair_layers': 3, 'n_pathscorer_layers': 3, 'pathscorer_hidden_dim': 16, 'n_halt_layers': 3, 'halt_scorer_type': 'endpoints', 'serial_halting': True}, 'type': 'PathCombiningRouteGenerator'}, 'backbone_gn': {'net_type': 'graph attn', 'kwargs': {'n_layers': 5, 'in_node_dim': 4, 'in_edge_dim': 14, 'use_norm': False, 'n_heads': 4, 'dense': False}}}, 'run_name': 'train_1'}"
      ]
     },
     "execution_count": 5,
     "metadata": {},
     "output_type": "execute_result"
    }
   ],
   "source": [
    "cfg_learn"
   ]
  },
  {
   "cell_type": "code",
   "execution_count": 6,
   "id": "7241c10f",
   "metadata": {},
   "outputs": [
    {
     "name": "stderr",
     "output_type": "stream",
     "text": [
      "  0%|          | 0/200 [00:00<?, ?it/s]\u001b[32m2025-07-29 19:13:13.083\u001b[0m | \u001b[33m\u001b[1mWARNING \u001b[0m | \u001b[36miduedu.utils.utils\u001b[0m:\u001b[36mkeep_largest_strongly_connected_component\u001b[0m:\u001b[36m27\u001b[0m - \u001b[33m\u001b[1mGraph contains 52 weakly connected components. This means the graph has disconnected groups if edge directions are ignored. Component sizes:: [1, 57, 1, 1, 1, 1, 1, 1, 1, 1, 1, 1, 1, 1, 1, 1, 1, 1, 1, 1, 1, 1, 1, 1, 1, 1, 1, 1, 1, 1, 1, 1, 1, 1, 1, 1, 1, 1, 1, 1, 1, 1, 1, 1, 1, 1, 1, 1, 1, 1, 1, 1]\u001b[0m\n",
      "\u001b[32m2025-07-29 19:13:13.085\u001b[0m | \u001b[33m\u001b[1mWARNING \u001b[0m | \u001b[36miduedu.utils.utils\u001b[0m:\u001b[36mkeep_largest_strongly_connected_component\u001b[0m:\u001b[36m37\u001b[0m - \u001b[33m\u001b[1mRemoving 51 nodes from 51 smaller strongly connected components. These are subgraphs where nodes are internally reachable but isolated from the rest. Retaining only the largest strongly connected component (57 nodes).\u001b[0m\n",
      "\u001b[32m2025-07-29 19:13:14.161\u001b[0m | \u001b[33m\u001b[1mWARNING \u001b[0m | \u001b[36miduedu.utils.utils\u001b[0m:\u001b[36mkeep_largest_strongly_connected_component\u001b[0m:\u001b[36m27\u001b[0m - \u001b[33m\u001b[1mGraph contains 54 weakly connected components. This means the graph has disconnected groups if edge directions are ignored. Component sizes:: [1, 1, 55, 1, 1, 1, 1, 1, 1, 1, 1, 1, 1, 1, 1, 1, 1, 1, 1, 1, 1, 1, 1, 1, 1, 1, 1, 1, 1, 1, 1, 1, 1, 1, 1, 1, 1, 1, 1, 1, 1, 1, 1, 1, 1, 1, 1, 1, 1, 1, 1, 1, 1, 1]\u001b[0m\n",
      "\u001b[32m2025-07-29 19:13:14.163\u001b[0m | \u001b[33m\u001b[1mWARNING \u001b[0m | \u001b[36miduedu.utils.utils\u001b[0m:\u001b[36mkeep_largest_strongly_connected_component\u001b[0m:\u001b[36m37\u001b[0m - \u001b[33m\u001b[1mRemoving 53 nodes from 53 smaller strongly connected components. These are subgraphs where nodes are internally reachable but isolated from the rest. Retaining only the largest strongly connected component (55 nodes).\u001b[0m\n",
      "\u001b[32m2025-07-29 19:13:14.428\u001b[0m | \u001b[33m\u001b[1mWARNING \u001b[0m | \u001b[36miduedu.utils.utils\u001b[0m:\u001b[36mkeep_largest_strongly_connected_component\u001b[0m:\u001b[36m27\u001b[0m - \u001b[33m\u001b[1mGraph contains 54 weakly connected components. This means the graph has disconnected groups if edge directions are ignored. Component sizes:: [1, 1, 48, 8, 1, 1, 1, 1, 1, 1, 1, 1, 1, 1, 1, 1, 1, 1, 1, 1, 1, 1, 1, 1, 1, 1, 1, 1, 1, 1, 1, 1, 1, 1, 1, 1, 1, 1, 1, 1, 1, 1, 1, 1, 1, 1, 1, 1, 1, 1, 1, 1, 1, 1]\u001b[0m\n",
      "\u001b[32m2025-07-29 19:13:14.429\u001b[0m | \u001b[33m\u001b[1mWARNING \u001b[0m | \u001b[36miduedu.utils.utils\u001b[0m:\u001b[36mkeep_largest_strongly_connected_component\u001b[0m:\u001b[36m37\u001b[0m - \u001b[33m\u001b[1mRemoving 60 nodes from 53 smaller strongly connected components. These are subgraphs where nodes are internally reachable but isolated from the rest. Retaining only the largest strongly connected component (48 nodes).\u001b[0m\n",
      "\u001b[32m2025-07-29 19:13:15.052\u001b[0m | \u001b[33m\u001b[1mWARNING \u001b[0m | \u001b[36miduedu.utils.utils\u001b[0m:\u001b[36mkeep_largest_strongly_connected_component\u001b[0m:\u001b[36m27\u001b[0m - \u001b[33m\u001b[1mGraph contains 61 weakly connected components. This means the graph has disconnected groups if edge directions are ignored. Component sizes:: [1, 1, 48, 1, 1, 1, 1, 1, 1, 1, 1, 1, 1, 1, 1, 1, 1, 1, 1, 1, 1, 1, 1, 1, 1, 1, 1, 1, 1, 1, 1, 1, 1, 1, 1, 1, 1, 1, 1, 1, 1, 1, 1, 1, 1, 1, 1, 1, 1, 1, 1, 1, 1, 1, 1, 1, 1, 1, 1, 1, 1]\u001b[0m\n",
      "\u001b[32m2025-07-29 19:13:15.054\u001b[0m | \u001b[33m\u001b[1mWARNING \u001b[0m | \u001b[36miduedu.utils.utils\u001b[0m:\u001b[36mkeep_largest_strongly_connected_component\u001b[0m:\u001b[36m37\u001b[0m - \u001b[33m\u001b[1mRemoving 60 nodes from 60 smaller strongly connected components. These are subgraphs where nodes are internally reachable but isolated from the rest. Retaining only the largest strongly connected component (48 nodes).\u001b[0m\n",
      "\u001b[32m2025-07-29 19:13:15.310\u001b[0m | \u001b[33m\u001b[1mWARNING \u001b[0m | \u001b[36miduedu.utils.utils\u001b[0m:\u001b[36mkeep_largest_strongly_connected_component\u001b[0m:\u001b[36m27\u001b[0m - \u001b[33m\u001b[1mGraph contains 51 weakly connected components. This means the graph has disconnected groups if edge directions are ignored. Component sizes:: [58, 1, 1, 1, 1, 1, 1, 1, 1, 1, 1, 1, 1, 1, 1, 1, 1, 1, 1, 1, 1, 1, 1, 1, 1, 1, 1, 1, 1, 1, 1, 1, 1, 1, 1, 1, 1, 1, 1, 1, 1, 1, 1, 1, 1, 1, 1, 1, 1, 1, 1]\u001b[0m\n",
      "\u001b[32m2025-07-29 19:13:15.312\u001b[0m | \u001b[33m\u001b[1mWARNING \u001b[0m | \u001b[36miduedu.utils.utils\u001b[0m:\u001b[36mkeep_largest_strongly_connected_component\u001b[0m:\u001b[36m37\u001b[0m - \u001b[33m\u001b[1mRemoving 50 nodes from 50 smaller strongly connected components. These are subgraphs where nodes are internally reachable but isolated from the rest. Retaining only the largest strongly connected component (58 nodes).\u001b[0m\n",
      "\u001b[32m2025-07-29 19:13:15.576\u001b[0m | \u001b[33m\u001b[1mWARNING \u001b[0m | \u001b[36miduedu.utils.utils\u001b[0m:\u001b[36mkeep_largest_strongly_connected_component\u001b[0m:\u001b[36m27\u001b[0m - \u001b[33m\u001b[1mGraph contains 56 weakly connected components. This means the graph has disconnected groups if edge directions are ignored. Component sizes:: [1, 1, 46, 1, 1, 1, 1, 1, 1, 1, 1, 1, 1, 1, 1, 1, 1, 1, 1, 1, 1, 1, 1, 1, 1, 1, 1, 1, 1, 1, 1, 1, 1, 1, 8, 1, 1, 1, 1, 1, 1, 1, 1, 1, 1, 1, 1, 1, 1, 1, 1, 1, 1, 1, 1, 1]\u001b[0m\n",
      "\u001b[32m2025-07-29 19:13:15.577\u001b[0m | \u001b[33m\u001b[1mWARNING \u001b[0m | \u001b[36miduedu.utils.utils\u001b[0m:\u001b[36mkeep_largest_strongly_connected_component\u001b[0m:\u001b[36m37\u001b[0m - \u001b[33m\u001b[1mRemoving 62 nodes from 55 smaller strongly connected components. These are subgraphs where nodes are internally reachable but isolated from the rest. Retaining only the largest strongly connected component (46 nodes).\u001b[0m\n",
      "\u001b[32m2025-07-29 19:13:15.832\u001b[0m | \u001b[33m\u001b[1mWARNING \u001b[0m | \u001b[36miduedu.utils.utils\u001b[0m:\u001b[36mkeep_largest_strongly_connected_component\u001b[0m:\u001b[36m27\u001b[0m - \u001b[33m\u001b[1mGraph contains 49 weakly connected components. This means the graph has disconnected groups if edge directions are ignored. Component sizes:: [1, 1, 60, 1, 1, 1, 1, 1, 1, 1, 1, 1, 1, 1, 1, 1, 1, 1, 1, 1, 1, 1, 1, 1, 1, 1, 1, 1, 1, 1, 1, 1, 1, 1, 1, 1, 1, 1, 1, 1, 1, 1, 1, 1, 1, 1, 1, 1, 1]\u001b[0m\n",
      "\u001b[32m2025-07-29 19:13:15.836\u001b[0m | \u001b[33m\u001b[1mWARNING \u001b[0m | \u001b[36miduedu.utils.utils\u001b[0m:\u001b[36mkeep_largest_strongly_connected_component\u001b[0m:\u001b[36m37\u001b[0m - \u001b[33m\u001b[1mRemoving 48 nodes from 48 smaller strongly connected components. These are subgraphs where nodes are internally reachable but isolated from the rest. Retaining only the largest strongly connected component (60 nodes).\u001b[0m\n",
      "\u001b[32m2025-07-29 19:13:16.092\u001b[0m | \u001b[33m\u001b[1mWARNING \u001b[0m | \u001b[36miduedu.utils.utils\u001b[0m:\u001b[36mkeep_largest_strongly_connected_component\u001b[0m:\u001b[36m27\u001b[0m - \u001b[33m\u001b[1mGraph contains 52 weakly connected components. This means the graph has disconnected groups if edge directions are ignored. Component sizes:: [1, 1, 57, 1, 1, 1, 1, 1, 1, 1, 1, 1, 1, 1, 1, 1, 1, 1, 1, 1, 1, 1, 1, 1, 1, 1, 1, 1, 1, 1, 1, 1, 1, 1, 1, 1, 1, 1, 1, 1, 1, 1, 1, 1, 1, 1, 1, 1, 1, 1, 1, 1]\u001b[0m\n",
      "\u001b[32m2025-07-29 19:13:16.094\u001b[0m | \u001b[33m\u001b[1mWARNING \u001b[0m | \u001b[36miduedu.utils.utils\u001b[0m:\u001b[36mkeep_largest_strongly_connected_component\u001b[0m:\u001b[36m37\u001b[0m - \u001b[33m\u001b[1mRemoving 51 nodes from 51 smaller strongly connected components. These are subgraphs where nodes are internally reachable but isolated from the rest. Retaining only the largest strongly connected component (57 nodes).\u001b[0m\n"
     ]
    },
    {
     "ename": "KeyboardInterrupt",
     "evalue": "",
     "output_type": "error",
     "traceback": [
      "\u001b[0;31m---------------------------------------------------------------------------\u001b[0m",
      "\u001b[0;31mKeyboardInterrupt\u001b[0m                         Traceback (most recent call last)",
      "Cell \u001b[0;32mIn[6], line 2\u001b[0m\n\u001b[1;32m      1\u001b[0m \u001b[38;5;28;01mfrom\u001b[39;00m\u001b[38;5;250m \u001b[39m\u001b[38;5;21;01mlearning\u001b[39;00m\u001b[38;5;250m \u001b[39m\u001b[38;5;28;01mimport\u001b[39;00m inductive_route_learning, eval_route_generator\n\u001b[0;32m----> 2\u001b[0m \u001b[43minductive_route_learning\u001b[49m\u001b[38;5;241;43m.\u001b[39;49m\u001b[43msetup_and_train\u001b[49m\u001b[43m(\u001b[49m\u001b[43mcfg_learn\u001b[49m\u001b[43m)\u001b[49m \u001b[38;5;66;03m# веса для модели вернутся в папку output, там будет файл .pt / при желании можно накинуть ему имя \u001b[39;00m\n",
      "File \u001b[0;32m~/TNDP_learning/learning/inductive_route_learning.py:814\u001b[0m, in \u001b[0;36msetup_and_train\u001b[0;34m(cfg, trial)\u001b[0m\n\u001b[1;32m    811\u001b[0m     checkpoint_dir\u001b[38;5;241m.\u001b[39mmkdir(parents\u001b[38;5;241m=\u001b[39m\u001b[38;5;28;01mTrue\u001b[39;00m)\n\u001b[1;32m    813\u001b[0m train_fn \u001b[38;5;241m=\u001b[39m train_ppo \u001b[38;5;28;01mif\u001b[39;00m \u001b[38;5;124m'\u001b[39m\u001b[38;5;124mppo\u001b[39m\u001b[38;5;124m'\u001b[39m \u001b[38;5;129;01min\u001b[39;00m cfg \u001b[38;5;28;01melse\u001b[39;00m train\n\u001b[0;32m--> 814\u001b[0m best_model, best_cost \u001b[38;5;241m=\u001b[39m \u001b[43mtrain_fn\u001b[49m\u001b[43m(\u001b[49m\n\u001b[1;32m    815\u001b[0m \u001b[43m    \u001b[49m\u001b[43mmodel\u001b[49m\u001b[43m,\u001b[49m\u001b[43m \u001b[49m\u001b[43mmin_n_routes\u001b[49m\u001b[43m,\u001b[49m\u001b[43m \u001b[49m\u001b[43mmax_n_routes\u001b[49m\u001b[43m,\u001b[49m\u001b[43m \u001b[49m\u001b[43mcfg\u001b[49m\u001b[43m,\u001b[49m\u001b[43m \u001b[49m\u001b[43moptimizer\u001b[49m\u001b[43m,\u001b[49m\u001b[43m \u001b[49m\u001b[43mtrain_dl\u001b[49m\u001b[43m,\u001b[49m\u001b[43m \u001b[49m\n\u001b[1;32m    816\u001b[0m \u001b[43m    \u001b[49m\u001b[43mval_dl\u001b[49m\u001b[43m,\u001b[49m\u001b[43m \u001b[49m\u001b[43mcost_obj\u001b[49m\u001b[43m,\u001b[49m\u001b[43m \u001b[49m\u001b[43meval_fn\u001b[49m\u001b[43m,\u001b[49m\u001b[43m \u001b[49m\u001b[43msumwriter\u001b[49m\u001b[38;5;241;43m=\u001b[39;49m\u001b[43msum_writer\u001b[49m\u001b[43m,\u001b[49m\u001b[43m \u001b[49m\u001b[43mdevice\u001b[49m\u001b[38;5;241;43m=\u001b[39;49m\u001b[43mDEVICE\u001b[49m\u001b[43m,\u001b[49m\u001b[43m \u001b[49m\n\u001b[1;32m    817\u001b[0m \u001b[43m    \u001b[49m\u001b[43moptuna_trial\u001b[49m\u001b[38;5;241;43m=\u001b[39;49m\u001b[43mtrial\u001b[49m\u001b[43m,\u001b[49m\u001b[43m \u001b[49m\u001b[43mcheckpoint_dir\u001b[49m\u001b[38;5;241;43m=\u001b[39;49m\u001b[43mcheckpoint_dir\u001b[49m\u001b[43m)\u001b[49m\n\u001b[1;32m    819\u001b[0m \u001b[38;5;66;03m# save the new trained model\u001b[39;00m\n\u001b[1;32m    820\u001b[0m torch\u001b[38;5;241m.\u001b[39msave(best_model\u001b[38;5;241m.\u001b[39mstate_dict(), output_dir \u001b[38;5;241m/\u001b[39m (run_name \u001b[38;5;241m+\u001b[39m \u001b[38;5;124m'\u001b[39m\u001b[38;5;124m.pt\u001b[39m\u001b[38;5;124m'\u001b[39m))\n",
      "File \u001b[0;32m~/TNDP_learning/learning/inductive_route_learning.py:332\u001b[0m, in \u001b[0;36mtrain_ppo\u001b[0;34m(model, min_n_routes, max_n_routes, cfg, optimizer, train_dataloader, val_dataloader, cost_obj, eval_fn, return_scale, sumwriter, optuna_trial, device, checkpoint_dir)\u001b[0m\n\u001b[1;32m    329\u001b[0m \u001b[38;5;28;01mfor\u001b[39;00m iteration \u001b[38;5;129;01min\u001b[39;00m \u001b[38;5;28mrange\u001b[39m(cfg\u001b[38;5;241m.\u001b[39mppo\u001b[38;5;241m.\u001b[39mn_iterations):\n\u001b[1;32m    330\u001b[0m     \u001b[38;5;28;01mif\u001b[39;00m iteration \u001b[38;5;241m%\u001b[39m cfg\u001b[38;5;241m.\u001b[39mppo\u001b[38;5;241m.\u001b[39mval_period \u001b[38;5;241m==\u001b[39m \u001b[38;5;241m0\u001b[39m:\n\u001b[1;32m    331\u001b[0m         \u001b[38;5;66;03m# do a pass on the validation set\u001b[39;00m\n\u001b[0;32m--> 332\u001b[0m         avg_val_cost \u001b[38;5;241m=\u001b[39m \u001b[43meval_fn\u001b[49m\u001b[43m(\u001b[49m\u001b[43mmodel\u001b[49m\u001b[43m,\u001b[49m\u001b[43m \u001b[49m\u001b[43mval_dataloader\u001b[49m\u001b[43m,\u001b[49m\u001b[43m \u001b[49m\u001b[43msumwriter\u001b[49m\u001b[43m,\u001b[49m\u001b[43m \u001b[49m\u001b[43mpbar\u001b[49m\u001b[38;5;241;43m.\u001b[39;49m\u001b[43mn\u001b[49m\u001b[43m)\u001b[49m\n\u001b[1;32m    333\u001b[0m         \u001b[38;5;28;01mif\u001b[39;00m iteration \u001b[38;5;241m==\u001b[39m \u001b[38;5;241m0\u001b[39m:\n\u001b[1;32m    334\u001b[0m             model\u001b[38;5;241m.\u001b[39mupdate_and_freeze_feature_norms()\n",
      "File \u001b[0;32m~/TNDP_learning/learning/inductive_route_learning.py:796\u001b[0m, in \u001b[0;36msetup_and_train.<locals>.<lambda>\u001b[0;34m(mm, dd, sw, ne)\u001b[0m\n\u001b[1;32m    792\u001b[0m     eval_n_routes \u001b[38;5;241m=\u001b[39m [eval_n_routes]\n\u001b[1;32m    794\u001b[0m \u001b[38;5;66;03m# define evaluation function\u001b[39;00m\n\u001b[1;32m    795\u001b[0m eval_fn \u001b[38;5;241m=\u001b[39m \u001b[38;5;28;01mlambda\u001b[39;00m mm, dd, sw, ne: \\\n\u001b[0;32m--> 796\u001b[0m     \u001b[43meval_model_over_nroutes\u001b[49m\u001b[43m(\u001b[49m\u001b[43mmm\u001b[49m\u001b[43m,\u001b[49m\u001b[43m \u001b[49m\u001b[43mdd\u001b[49m\u001b[43m,\u001b[49m\u001b[43m \u001b[49m\u001b[43meval_n_routes\u001b[49m\u001b[43m,\u001b[49m\u001b[43m \u001b[49m\u001b[43mcfg\u001b[49m\u001b[38;5;241;43m.\u001b[39;49m\u001b[43meval\u001b[49m\u001b[43m,\u001b[49m\u001b[43m \u001b[49m\u001b[43mval_cost_obj\u001b[49m\u001b[43m,\u001b[49m\u001b[43m \u001b[49m\n\u001b[1;32m    797\u001b[0m \u001b[43m                            \u001b[49m\u001b[43msw\u001b[49m\u001b[43m,\u001b[49m\u001b[43m \u001b[49m\u001b[43mne\u001b[49m\u001b[43m,\u001b[49m\u001b[43m \u001b[49m\u001b[43mn_samples\u001b[49m\u001b[38;5;241;43m=\u001b[39;49m\u001b[38;5;241;43m1\u001b[39;49m\u001b[43m,\u001b[49m\u001b[43m \u001b[49m\u001b[43msilent\u001b[49m\u001b[38;5;241;43m=\u001b[39;49m\u001b[38;5;28;43;01mTrue\u001b[39;49;00m\u001b[43m)\u001b[49m\n\u001b[1;32m    799\u001b[0m \u001b[38;5;28;01mif\u001b[39;00m \u001b[38;5;124m'\u001b[39m\u001b[38;5;124moutdir\u001b[39m\u001b[38;5;124m'\u001b[39m \u001b[38;5;129;01min\u001b[39;00m cfg:\n\u001b[1;32m    800\u001b[0m     output_dir \u001b[38;5;241m=\u001b[39m Path(cfg\u001b[38;5;241m.\u001b[39moutdir)\n",
      "File \u001b[0;32m~/TNDP_learning/learning/inductive_route_learning.py:223\u001b[0m, in \u001b[0;36meval_model_over_nroutes\u001b[0;34m(model, eval_dl, n_routes_range, eval_cfg, cost_obj, sumwriter, n_eps, n_samples, silent)\u001b[0m\n\u001b[1;32m    220\u001b[0m \u001b[38;5;28;01mfor\u001b[39;00m n_routes \u001b[38;5;129;01min\u001b[39;00m n_routes_range:\n\u001b[1;32m    221\u001b[0m     eval_cfg\u001b[38;5;241m.\u001b[39mn_routes \u001b[38;5;241m=\u001b[39m n_routes\n\u001b[1;32m    222\u001b[0m     mean_cost, metrics \u001b[38;5;241m=\u001b[39m \\\n\u001b[0;32m--> 223\u001b[0m         \u001b[43meval_model\u001b[49m\u001b[43m(\u001b[49m\u001b[43mmodel\u001b[49m\u001b[43m,\u001b[49m\u001b[43m \u001b[49m\u001b[43meval_dl\u001b[49m\u001b[43m,\u001b[49m\u001b[43m \u001b[49m\u001b[43meval_cfg\u001b[49m\u001b[43m,\u001b[49m\u001b[43m \u001b[49m\u001b[43mcost_obj\u001b[49m\u001b[43m,\u001b[49m\u001b[43m \u001b[49m\u001b[43msilent\u001b[49m\u001b[38;5;241;43m=\u001b[39;49m\u001b[43msilent\u001b[49m\u001b[43m,\u001b[49m\u001b[43m \u001b[49m\n\u001b[1;32m    224\u001b[0m \u001b[43m                   \u001b[49m\u001b[43mn_samples\u001b[49m\u001b[38;5;241;43m=\u001b[39;49m\u001b[43mn_samples\u001b[49m\u001b[43m,\u001b[49m\u001b[43m \u001b[49m\u001b[43mdevice\u001b[49m\u001b[38;5;241;43m=\u001b[39;49m\u001b[43mDEVICE\u001b[49m\u001b[43m)\u001b[49m\n\u001b[1;32m    225\u001b[0m     eval_costs\u001b[38;5;241m.\u001b[39mappend(mean_cost)\n\u001b[1;32m    227\u001b[0m     \u001b[38;5;28;01mif\u001b[39;00m all_metrics \u001b[38;5;129;01mis\u001b[39;00m \u001b[38;5;28;01mNone\u001b[39;00m:\n",
      "File \u001b[0;32m~/TNDP_learning/learning/eval_route_generator.py:105\u001b[0m, in \u001b[0;36meval_model\u001b[0;34m(model, eval_dataloader, eval_cfg, cost_obj, sum_writer, iter_num, n_samples, silent, sample_batch_size, return_routes, device)\u001b[0m\n\u001b[1;32m     99\u001b[0m \u001b[38;5;28;01melse\u001b[39;00m:\n\u001b[1;32m    100\u001b[0m     method_fn \u001b[38;5;241m=\u001b[39m \u001b[38;5;28;01mlambda\u001b[39;00m state, cost_obj, \u001b[38;5;241m*\u001b[39margs, \u001b[38;5;241m*\u001b[39m\u001b[38;5;241m*\u001b[39mkwargs: \\\n\u001b[1;32m    101\u001b[0m         (sample_from_model(model, state, cost_obj, n_samples\u001b[38;5;241m=\u001b[39mn_samples, \n\u001b[1;32m    102\u001b[0m                            sample_batch_size\u001b[38;5;241m=\u001b[39msample_batch_size), \n\u001b[1;32m    103\u001b[0m          \u001b[38;5;28;01mNone\u001b[39;00m)\n\u001b[1;32m    104\u001b[0m cost, _, metrics, routes \u001b[38;5;241m=\u001b[39m \\\n\u001b[0;32m--> 105\u001b[0m     \u001b[43mlrnu\u001b[49m\u001b[38;5;241;43m.\u001b[39;49m\u001b[43mtest_method\u001b[49m\u001b[43m(\u001b[49m\u001b[43mmethod_fn\u001b[49m\u001b[43m,\u001b[49m\u001b[43m \u001b[49m\u001b[43meval_dataloader\u001b[49m\u001b[43m,\u001b[49m\u001b[43m \u001b[49m\u001b[43meval_cfg\u001b[49m\u001b[43m,\u001b[49m\u001b[43m \u001b[49m\u001b[38;5;28;43;01mNone\u001b[39;49;00m\u001b[43m,\u001b[49m\u001b[43m \u001b[49m\u001b[43mcost_obj\u001b[49m\u001b[43m,\u001b[49m\u001b[43m \u001b[49m\n\u001b[1;32m    106\u001b[0m \u001b[43m                     \u001b[49m\u001b[43msum_writer\u001b[49m\u001b[43m,\u001b[49m\u001b[43m \u001b[49m\u001b[43mdevice\u001b[49m\u001b[38;5;241;43m=\u001b[39;49m\u001b[43mdevice\u001b[49m\u001b[43m,\u001b[49m\u001b[43m \u001b[49m\u001b[43msilent\u001b[49m\u001b[38;5;241;43m=\u001b[39;49m\u001b[43msilent\u001b[49m\u001b[43m,\u001b[49m\u001b[43m \u001b[49m\n\u001b[1;32m    107\u001b[0m \u001b[43m                     \u001b[49m\u001b[43miter_num\u001b[49m\u001b[38;5;241;43m=\u001b[39;49m\u001b[43miter_num\u001b[49m\u001b[43m,\u001b[49m\u001b[43m \u001b[49m\u001b[43mreturn_routes\u001b[49m\u001b[38;5;241;43m=\u001b[39;49m\u001b[38;5;28;43;01mTrue\u001b[39;49;00m\u001b[43m)\u001b[49m\n\u001b[1;32m    108\u001b[0m \u001b[38;5;28;01mif\u001b[39;00m return_routes:\n\u001b[1;32m    109\u001b[0m     routes \u001b[38;5;241m=\u001b[39m get_batch_tensor_from_routes(routes)\n",
      "File \u001b[0;32m~/TNDP_learning/venv/lib/python3.10/site-packages/torch/utils/_contextlib.py:116\u001b[0m, in \u001b[0;36mcontext_decorator.<locals>.decorate_context\u001b[0;34m(*args, **kwargs)\u001b[0m\n\u001b[1;32m    113\u001b[0m \u001b[38;5;129m@functools\u001b[39m\u001b[38;5;241m.\u001b[39mwraps(func)\n\u001b[1;32m    114\u001b[0m \u001b[38;5;28;01mdef\u001b[39;00m\u001b[38;5;250m \u001b[39m\u001b[38;5;21mdecorate_context\u001b[39m(\u001b[38;5;241m*\u001b[39margs, \u001b[38;5;241m*\u001b[39m\u001b[38;5;241m*\u001b[39mkwargs):\n\u001b[1;32m    115\u001b[0m     \u001b[38;5;28;01mwith\u001b[39;00m ctx_factory():\n\u001b[0;32m--> 116\u001b[0m         \u001b[38;5;28;01mreturn\u001b[39;00m \u001b[43mfunc\u001b[49m\u001b[43m(\u001b[49m\u001b[38;5;241;43m*\u001b[39;49m\u001b[43margs\u001b[49m\u001b[43m,\u001b[49m\u001b[43m \u001b[49m\u001b[38;5;241;43m*\u001b[39;49m\u001b[38;5;241;43m*\u001b[39;49m\u001b[43mkwargs\u001b[49m\u001b[43m)\u001b[49m\n",
      "File \u001b[0;32m~/TNDP_learning/learning/utils.py:245\u001b[0m, in \u001b[0;36mtest_method\u001b[0;34m(method_fn, dataloader, eval_cfg, init_cfg, cost_obj, sum_writer, silent, return_routes, device, iter_num, *method_args, **method_kwargs)\u001b[0m\n\u001b[1;32m    240\u001b[0m \u001b[38;5;28;01massert\u001b[39;00m init_network \u001b[38;5;129;01mis\u001b[39;00m \u001b[38;5;28;01mNone\u001b[39;00m \u001b[38;5;129;01mor\u001b[39;00m init_network\u001b[38;5;241m.\u001b[39mshape[\u001b[38;5;241m1\u001b[39m] \u001b[38;5;241m==\u001b[39m eval_cfg\u001b[38;5;241m.\u001b[39mn_routes, \\\n\u001b[1;32m    241\u001b[0m     \u001b[38;5;124m\"\u001b[39m\u001b[38;5;124minitial solution has wrong number of routes \u001b[39m\u001b[38;5;124m\"\u001b[39m\\\n\u001b[1;32m    242\u001b[0m     \u001b[38;5;124mf\u001b[39m\u001b[38;5;124m\"\u001b[39m\u001b[38;5;132;01m{\u001b[39;00minit_network\u001b[38;5;241m.\u001b[39mshape[\u001b[38;5;241m1\u001b[39m]\u001b[38;5;132;01m}\u001b[39;00m\u001b[38;5;124m, should be \u001b[39m\u001b[38;5;132;01m{\u001b[39;00meval_cfg\u001b[38;5;241m.\u001b[39mn_routes\u001b[38;5;132;01m}\u001b[39;00m\u001b[38;5;124m\"\u001b[39m\n\u001b[1;32m    244\u001b[0m \u001b[38;5;28;01mif\u001b[39;00m method_fn \u001b[38;5;129;01mis\u001b[39;00m \u001b[38;5;129;01mnot\u001b[39;00m \u001b[38;5;28;01mNone\u001b[39;00m:\n\u001b[0;32m--> 245\u001b[0m     state, cost_history \u001b[38;5;241m=\u001b[39m \u001b[43mmethod_fn\u001b[49m\u001b[43m(\u001b[49m\u001b[43mstate\u001b[49m\u001b[43m,\u001b[49m\u001b[43m \u001b[49m\u001b[43mcost_obj\u001b[49m\u001b[43m,\u001b[49m\u001b[43m \u001b[49m\u001b[43msilent\u001b[49m\u001b[38;5;241;43m=\u001b[39;49m\u001b[43msilent\u001b[49m\u001b[43m,\u001b[49m\n\u001b[1;32m    246\u001b[0m \u001b[43m                                    \u001b[49m\u001b[43minit_network\u001b[49m\u001b[38;5;241;43m=\u001b[39;49m\u001b[43minit_network\u001b[49m\u001b[43m,\u001b[49m\n\u001b[1;32m    247\u001b[0m \u001b[43m                                    \u001b[49m\u001b[43msum_writer\u001b[49m\u001b[38;5;241;43m=\u001b[39;49m\u001b[43msum_writer\u001b[49m\u001b[43m,\u001b[49m\u001b[43m \u001b[49m\u001b[38;5;241;43m*\u001b[39;49m\u001b[43mmethod_args\u001b[49m\u001b[43m,\u001b[49m\u001b[43m \u001b[49m\n\u001b[1;32m    248\u001b[0m \u001b[43m                                    \u001b[49m\u001b[38;5;241;43m*\u001b[39;49m\u001b[38;5;241;43m*\u001b[39;49m\u001b[43mmethod_kwargs\u001b[49m\u001b[43m)\u001b[49m\n\u001b[1;32m    249\u001b[0m \u001b[38;5;28;01melse\u001b[39;00m:\n\u001b[1;32m    250\u001b[0m     \u001b[38;5;66;03m# just evaluate the initial solution\u001b[39;00m\n\u001b[1;32m    251\u001b[0m     state\u001b[38;5;241m.\u001b[39madd_new_routes(init_network)\n",
      "File \u001b[0;32m~/TNDP_learning/learning/eval_route_generator.py:101\u001b[0m, in \u001b[0;36meval_model.<locals>.<lambda>\u001b[0;34m(state, cost_obj, *args, **kwargs)\u001b[0m\n\u001b[1;32m     97\u001b[0m     method_fn \u001b[38;5;241m=\u001b[39m \u001b[38;5;28;01mlambda\u001b[39;00m state, \u001b[38;5;241m*\u001b[39margs, \u001b[38;5;241m*\u001b[39m\u001b[38;5;241m*\u001b[39mkwargs: \\\n\u001b[1;32m     98\u001b[0m         (model(state, greedy\u001b[38;5;241m=\u001b[39m\u001b[38;5;28;01mTrue\u001b[39;00m)\u001b[38;5;241m.\u001b[39mstate, \u001b[38;5;28;01mNone\u001b[39;00m)\n\u001b[1;32m     99\u001b[0m \u001b[38;5;28;01melse\u001b[39;00m:\n\u001b[1;32m    100\u001b[0m     method_fn \u001b[38;5;241m=\u001b[39m \u001b[38;5;28;01mlambda\u001b[39;00m state, cost_obj, \u001b[38;5;241m*\u001b[39margs, \u001b[38;5;241m*\u001b[39m\u001b[38;5;241m*\u001b[39mkwargs: \\\n\u001b[0;32m--> 101\u001b[0m         (\u001b[43msample_from_model\u001b[49m\u001b[43m(\u001b[49m\u001b[43mmodel\u001b[49m\u001b[43m,\u001b[49m\u001b[43m \u001b[49m\u001b[43mstate\u001b[49m\u001b[43m,\u001b[49m\u001b[43m \u001b[49m\u001b[43mcost_obj\u001b[49m\u001b[43m,\u001b[49m\u001b[43m \u001b[49m\u001b[43mn_samples\u001b[49m\u001b[38;5;241;43m=\u001b[39;49m\u001b[43mn_samples\u001b[49m\u001b[43m,\u001b[49m\u001b[43m \u001b[49m\n\u001b[1;32m    102\u001b[0m \u001b[43m                           \u001b[49m\u001b[43msample_batch_size\u001b[49m\u001b[38;5;241;43m=\u001b[39;49m\u001b[43msample_batch_size\u001b[49m\u001b[43m)\u001b[49m, \n\u001b[1;32m    103\u001b[0m          \u001b[38;5;28;01mNone\u001b[39;00m)\n\u001b[1;32m    104\u001b[0m cost, _, metrics, routes \u001b[38;5;241m=\u001b[39m \\\n\u001b[1;32m    105\u001b[0m     lrnu\u001b[38;5;241m.\u001b[39mtest_method(method_fn, eval_dataloader, eval_cfg, \u001b[38;5;28;01mNone\u001b[39;00m, cost_obj, \n\u001b[1;32m    106\u001b[0m                      sum_writer, device\u001b[38;5;241m=\u001b[39mdevice, silent\u001b[38;5;241m=\u001b[39msilent, \n\u001b[1;32m    107\u001b[0m                      iter_num\u001b[38;5;241m=\u001b[39miter_num, return_routes\u001b[38;5;241m=\u001b[39m\u001b[38;5;28;01mTrue\u001b[39;00m)\n\u001b[1;32m    108\u001b[0m \u001b[38;5;28;01mif\u001b[39;00m return_routes:\n",
      "File \u001b[0;32m~/TNDP_learning/learning/eval_route_generator.py:87\u001b[0m, in \u001b[0;36msample_from_model\u001b[0;34m(model, state, cost_obj, n_samples, sample_batch_size)\u001b[0m\n\u001b[1;32m     84\u001b[0m best_plans \u001b[38;5;241m=\u001b[39m [all_plans[mi \u001b[38;5;241m*\u001b[39m batch_size \u001b[38;5;241m+\u001b[39m ii] \\\n\u001b[1;32m     85\u001b[0m               \u001b[38;5;28;01mfor\u001b[39;00m ii, mi \u001b[38;5;129;01min\u001b[39;00m \u001b[38;5;28menumerate\u001b[39m(min_indices)]\n\u001b[1;32m     86\u001b[0m best_plans_tensor \u001b[38;5;241m=\u001b[39m get_batch_tensor_from_routes(best_plans)\n\u001b[0;32m---> 87\u001b[0m \u001b[43mstate\u001b[49m\u001b[38;5;241;43m.\u001b[39;49m\u001b[43madd_new_routes\u001b[49m\u001b[43m(\u001b[49m\u001b[43mbest_plans_tensor\u001b[49m\u001b[43m)\u001b[49m\n\u001b[1;32m     88\u001b[0m \u001b[38;5;28;01mreturn\u001b[39;00m state\n",
      "File \u001b[0;32m~/TNDP_learning/simulation/transit_time_estimator.py:385\u001b[0m, in \u001b[0;36mRouteGenBatchState.add_new_routes\u001b[0;34m(self, batch_new_routes, only_routes_with_demand_are_valid, invalid_directly_connected)\u001b[0m\n\u001b[1;32m    381\u001b[0m \u001b[38;5;28;01mif\u001b[39;00m \u001b[38;5;28mtype\u001b[39m(batch_new_routes) \u001b[38;5;129;01mis\u001b[39;00m \u001b[38;5;28mlist\u001b[39m:\n\u001b[1;32m    382\u001b[0m     batch_new_routes \u001b[38;5;241m=\u001b[39m tu\u001b[38;5;241m.\u001b[39mget_batch_tensor_from_routes(batch_new_routes,\n\u001b[1;32m    383\u001b[0m                                                        \u001b[38;5;28mself\u001b[39m\u001b[38;5;241m.\u001b[39mdevice)\n\u001b[0;32m--> 385\u001b[0m \u001b[38;5;28;43mself\u001b[39;49m\u001b[38;5;241;43m.\u001b[39;49m\u001b[43m_add_routes_to_tensors\u001b[49m\u001b[43m(\u001b[49m\u001b[43mbatch_new_routes\u001b[49m\u001b[43m,\u001b[49m\u001b[43m \u001b[49m\n\u001b[1;32m    386\u001b[0m \u001b[43m                            \u001b[49m\u001b[43monly_routes_with_demand_are_valid\u001b[49m\u001b[43m,\u001b[49m\u001b[43m \u001b[49m\n\u001b[1;32m    387\u001b[0m \u001b[43m                            \u001b[49m\u001b[43minvalid_directly_connected\u001b[49m\u001b[43m)\u001b[49m\n\u001b[1;32m    388\u001b[0m \u001b[38;5;28mself\u001b[39m\u001b[38;5;241m.\u001b[39m_add_routes_to_list(batch_new_routes)\n\u001b[1;32m    390\u001b[0m \u001b[38;5;66;03m# finally, update the total route times with the new routes\u001b[39;00m\n",
      "File \u001b[0;32m~/TNDP_learning/simulation/transit_time_estimator.py:355\u001b[0m, in \u001b[0;36mRouteGenBatchState._add_routes_to_tensors\u001b[0;34m(self, batch_new_routes, only_routes_with_demand_are_valid, invalid_directly_connected)\u001b[0m\n\u001b[1;32m    351\u001b[0m \u001b[38;5;28;01mif\u001b[39;00m \u001b[38;5;28mself\u001b[39m\u001b[38;5;241m.\u001b[39msymmetric_routes:\n\u001b[1;32m    352\u001b[0m     \u001b[38;5;28mself\u001b[39m\u001b[38;5;241m.\u001b[39mextra_data\u001b[38;5;241m.\u001b[39mvalid_terms_mat \u001b[38;5;241m=\u001b[39m \u001b[38;5;28mself\u001b[39m\u001b[38;5;241m.\u001b[39mvalid_terms_mat \u001b[38;5;241m&\u001b[39m \\\n\u001b[1;32m    353\u001b[0m         \u001b[38;5;28mself\u001b[39m\u001b[38;5;241m.\u001b[39mvalid_terms_mat\u001b[38;5;241m.\u001b[39mtranspose(\u001b[38;5;241m1\u001b[39m, \u001b[38;5;241m2\u001b[39m)\n\u001b[0;32m--> 355\u001b[0m \u001b[38;5;28;43mself\u001b[39;49m\u001b[38;5;241;43m.\u001b[39;49m\u001b[43m_update_route_data\u001b[49m\u001b[43m(\u001b[49m\u001b[43m)\u001b[49m\n",
      "File \u001b[0;32m~/TNDP_learning/simulation/transit_time_estimator.py:421\u001b[0m, in \u001b[0;36mRouteGenBatchState._update_route_data\u001b[0;34m(self)\u001b[0m\n\u001b[1;32m    419\u001b[0m fw_mat \u001b[38;5;241m=\u001b[39m \u001b[38;5;28mself\u001b[39m\u001b[38;5;241m.\u001b[39mroute_mat \u001b[38;5;241m+\u001b[39m \u001b[38;5;28mself\u001b[39m\u001b[38;5;241m.\u001b[39mtransfer_time_s[:, \u001b[38;5;28;01mNone\u001b[39;00m, \u001b[38;5;28;01mNone\u001b[39;00m]\n\u001b[1;32m    420\u001b[0m nexts, transit_times \u001b[38;5;241m=\u001b[39m tu\u001b[38;5;241m.\u001b[39mfloyd_warshall(fw_mat)\n\u001b[0;32m--> 421\u001b[0m _, path_edge_counts \u001b[38;5;241m=\u001b[39m \u001b[43mtu\u001b[49m\u001b[38;5;241;43m.\u001b[39;49m\u001b[43mreconstruct_all_paths\u001b[49m\u001b[43m(\u001b[49m\u001b[43mnexts\u001b[49m\u001b[43m)\u001b[49m\n\u001b[1;32m    422\u001b[0m \u001b[38;5;66;03m# subtract one transfer time from each transit time to avoid counting\u001b[39;00m\n\u001b[1;32m    423\u001b[0m  \u001b[38;5;66;03m# a transfer for the first edge of a journey\u001b[39;00m\n\u001b[1;32m    424\u001b[0m transit_times \u001b[38;5;241m-\u001b[39m\u001b[38;5;241m=\u001b[39m \u001b[38;5;28mself\u001b[39m\u001b[38;5;241m.\u001b[39mtransfer_time_s[:, \u001b[38;5;28;01mNone\u001b[39;00m, \u001b[38;5;28;01mNone\u001b[39;00m]\n",
      "File \u001b[0;32m~/TNDP_learning/torch_utils.py:226\u001b[0m, in \u001b[0;36mreconstruct_all_paths\u001b[0;34m(nexts)\u001b[0m\n\u001b[1;32m    223\u001b[0m     batch_size \u001b[38;5;241m=\u001b[39m nexts\u001b[38;5;241m.\u001b[39mshape[\u001b[38;5;241m0\u001b[39m]\n\u001b[1;32m    224\u001b[0m     node_idxs \u001b[38;5;241m=\u001b[39m node_idxs\u001b[38;5;241m.\u001b[39mexpand(batch_size, \u001b[38;5;241m-\u001b[39m\u001b[38;5;241m1\u001b[39m, \u001b[38;5;241m-\u001b[39m\u001b[38;5;241m1\u001b[39m)\n\u001b[1;32m    225\u001b[0m path_tensor, path_lens \u001b[38;5;241m=\u001b[39m \\\n\u001b[0;32m--> 226\u001b[0m     \u001b[43maggregate_node_features\u001b[49m\u001b[43m(\u001b[49m\u001b[43mnexts\u001b[49m\u001b[43m,\u001b[49m\u001b[43m \u001b[49m\u001b[43mnode_idxs\u001b[49m\u001b[43m,\u001b[49m\u001b[43m \u001b[49m\u001b[43magg_mode\u001b[49m\u001b[38;5;241;43m=\u001b[39;49m\u001b[38;5;124;43m\"\u001b[39;49m\u001b[38;5;124;43mconcat\u001b[39;49m\u001b[38;5;124;43m\"\u001b[39;49m\u001b[43m,\u001b[49m\n\u001b[1;32m    227\u001b[0m \u001b[43m                            \u001b[49m\u001b[43mreturn_node_counts\u001b[49m\u001b[38;5;241;43m=\u001b[39;49m\u001b[38;5;28;43;01mTrue\u001b[39;49;00m\u001b[43m)\u001b[49m\n\u001b[1;32m    228\u001b[0m \u001b[38;5;28;01mif\u001b[39;00m nexts\u001b[38;5;241m.\u001b[39mndim \u001b[38;5;241m==\u001b[39m \u001b[38;5;241m3\u001b[39m \u001b[38;5;129;01mor\u001b[39;00m nexts\u001b[38;5;241m.\u001b[39mshape[\u001b[38;5;241m-\u001b[39m\u001b[38;5;241m1\u001b[39m] \u001b[38;5;241m!=\u001b[39m \u001b[38;5;241m1\u001b[39m:\n\u001b[1;32m    229\u001b[0m     path_tensor\u001b[38;5;241m.\u001b[39msqueeze_(\u001b[38;5;241m-\u001b[39m\u001b[38;5;241m1\u001b[39m)\n",
      "File \u001b[0;32m~/TNDP_learning/torch_utils.py:263\u001b[0m, in \u001b[0;36maggregate_node_features\u001b[0;34m(nexts, features, agg_mode, return_node_counts)\u001b[0m\n\u001b[1;32m    259\u001b[0m edge_feats[:, node_idxs, node_idxs] \u001b[38;5;241m=\u001b[39m \u001b[38;5;241m0\u001b[39m\n\u001b[1;32m    261\u001b[0m edge_agg_mode \u001b[38;5;241m=\u001b[39m \u001b[38;5;124m\"\u001b[39m\u001b[38;5;124mconcat\u001b[39m\u001b[38;5;124m\"\u001b[39m \u001b[38;5;28;01mif\u001b[39;00m agg_mode \u001b[38;5;241m==\u001b[39m \u001b[38;5;124m\"\u001b[39m\u001b[38;5;124mconcat\u001b[39m\u001b[38;5;124m\"\u001b[39m \u001b[38;5;28;01melse\u001b[39;00m \u001b[38;5;124m\"\u001b[39m\u001b[38;5;124msum\u001b[39m\u001b[38;5;124m\"\u001b[39m\n\u001b[1;32m    262\u001b[0m aggs, edge_counts \u001b[38;5;241m=\u001b[39m \\\n\u001b[0;32m--> 263\u001b[0m     \u001b[43maggregate_edge_features\u001b[49m\u001b[43m(\u001b[49m\u001b[43mnexts\u001b[49m\u001b[43m,\u001b[49m\u001b[43m \u001b[49m\u001b[43medge_feats\u001b[49m\u001b[43m,\u001b[49m\u001b[43m \u001b[49m\u001b[43medge_agg_mode\u001b[49m\u001b[43m,\u001b[49m\u001b[43m \u001b[49m\n\u001b[1;32m    264\u001b[0m \u001b[43m                            \u001b[49m\u001b[43mreturn_edge_counts\u001b[49m\u001b[38;5;241;43m=\u001b[39;49m\u001b[38;5;28;43;01mTrue\u001b[39;49;00m\u001b[43m)\u001b[49m\n\u001b[1;32m    265\u001b[0m \u001b[38;5;66;03m# the final aggregates are missing the first node's feature, so add it\u001b[39;00m\n\u001b[1;32m    266\u001b[0m \u001b[38;5;28;01mif\u001b[39;00m agg_mode \u001b[38;5;241m==\u001b[39m \u001b[38;5;124m\"\u001b[39m\u001b[38;5;124mconcat\u001b[39m\u001b[38;5;124m\"\u001b[39m:\n\u001b[1;32m    267\u001b[0m     \u001b[38;5;66;03m# transpose the (to, from) axes of edge features \u001b[39;00m\n",
      "File \u001b[0;32m~/TNDP_learning/torch_utils.py:348\u001b[0m, in \u001b[0;36maggregate_edge_features\u001b[0;34m(nexts, features, agg_mode, return_edge_counts)\u001b[0m\n\u001b[1;32m    344\u001b[0m \u001b[38;5;28;01mif\u001b[39;00m agg_mode \u001b[38;5;241m==\u001b[39m \u001b[38;5;124m\"\u001b[39m\u001b[38;5;124mconcat\u001b[39m\u001b[38;5;124m\"\u001b[39m:\n\u001b[1;32m    345\u001b[0m     \u001b[38;5;66;03m# the final edge feature is always a self-loop, since no \u001b[39;00m\n\u001b[1;32m    346\u001b[0m      \u001b[38;5;66;03m# non-looping path has more than n_nodes - 1 edges, so skip it.\u001b[39;00m\n\u001b[1;32m    347\u001b[0m     \u001b[38;5;28;01mif\u001b[39;00m ni \u001b[38;5;241m<\u001b[39m n_nodes \u001b[38;5;241m-\u001b[39m \u001b[38;5;241m1\u001b[39m:\n\u001b[0;32m--> 348\u001b[0m         \u001b[38;5;28;01mif\u001b[39;00m \u001b[43m(\u001b[49m\u001b[43m(\u001b[49m\u001b[43mcur_node\u001b[49m\u001b[43m \u001b[49m\u001b[38;5;241;43m!=\u001b[39;49m\u001b[43m \u001b[49m\u001b[43mdst_node\u001b[49m\u001b[43m)\u001b[49m\u001b[43m \u001b[49m\u001b[38;5;241;43m&\u001b[39;49m\u001b[43m \u001b[49m\u001b[43m(\u001b[49m\u001b[43mnexts\u001b[49m\u001b[43m \u001b[49m\u001b[38;5;241;43m!=\u001b[39;49m\u001b[43m \u001b[49m\u001b[38;5;241;43m-\u001b[39;49m\u001b[38;5;241;43m1\u001b[39;49m\u001b[43m)\u001b[49m\u001b[43m)\u001b[49m\u001b[38;5;241;43m.\u001b[39;49m\u001b[43many\u001b[49m\u001b[43m(\u001b[49m\u001b[43m)\u001b[49m:\n\u001b[1;32m    349\u001b[0m             \u001b[38;5;66;03m# also, to save space, only append features if any are \u001b[39;00m\n\u001b[1;32m    350\u001b[0m              \u001b[38;5;66;03m# valid next nodes\u001b[39;00m\n\u001b[1;32m    351\u001b[0m             aggs\u001b[38;5;241m.\u001b[39mappend(next_feats)\n\u001b[1;32m    352\u001b[0m \u001b[38;5;28;01melse\u001b[39;00m:\n",
      "\u001b[0;31mKeyboardInterrupt\u001b[0m: "
     ]
    }
   ],
   "source": [
    "from learning import inductive_route_learning, eval_route_generator\n",
    "inductive_route_learning.setup_and_train(cfg_learn) # веса для модели вернутся в папку output, там будет файл .pt / при желании можно накинуть ему имя "
   ]
  },
  {
   "cell_type": "markdown",
   "id": "2f6dab43",
   "metadata": {},
   "source": [
    "### Стартовый набор маршрутов"
   ]
  },
  {
   "cell_type": "code",
   "execution_count": 7,
   "id": "31951701",
   "metadata": {},
   "outputs": [],
   "source": [
    "with initialize_config_dir(config_dir=cfg_dir, version_base=None):\n",
    "    \n",
    "    cfg_eval = compose(\n",
    "        config_name=\"eval_model_mumford\",   # из @hydra.main\n",
    "        overrides=[\n",
    "            \"+eval=mandl\", # конфиг в котором задается кол-во маршрутов и их макс и мин длины (можно заменить на vo для теста по ваське)\n",
    "            \"+model.weights=../TNDP_learning/output/inductive_30_06_2025_18_12_45.pt\", # путь к весам модели\n",
    "            \"++eval.dataset.path=../TNDP_learning/datasets/mumford_dataset/Instances\", # путь к данным (можно заменить на ваську)\n",
    "            \"++eval.dataset.city=Mandl\", # название города из датасетов, при тесте на ваське написать VO\n",
    "            \"++run_name=test\" # имя запуска, вернет pickle файл с тензором в output_routes\n",
    "        ]\n",
    "    )"
   ]
  },
  {
   "cell_type": "code",
   "execution_count": 9,
   "id": "0d992ced",
   "metadata": {},
   "outputs": [
    {
     "name": "stdout",
     "output_type": "stream",
     "text": [
      "experiment:\n",
      "  logdir: null\n",
      "  anomaly: false\n",
      "  cpu: false\n",
      "  seed: 0\n",
      "  symmetric_routes: true\n",
      "  cost_function:\n",
      "    type: mine\n",
      "    kwargs:\n",
      "      mean_stop_time_s: 0\n",
      "      avg_transfer_wait_time_s: 300\n",
      "      demand_time_weight: 0.33\n",
      "      route_time_weight: 0.33\n",
      "      median_connectivity_weight: 0.33\n",
      "      constraint_violation_weight: 5.0\n",
      "      variable_weights: true\n",
      "      pp_fraction: 0.33\n",
      "      op_fraction: 0.33\n",
      "model:\n",
      "  common:\n",
      "    dropout: 0.0\n",
      "    nonlin_type: ReLU\n",
      "    embed_dim: 64\n",
      "  route_generator:\n",
      "    kwargs:\n",
      "      force_linking_unlinked: false\n",
      "      logit_clip: null\n",
      "      n_nodepair_layers: 3\n",
      "      n_pathscorer_layers: 3\n",
      "      pathscorer_hidden_dim: 16\n",
      "      n_halt_layers: 3\n",
      "      halt_scorer_type: endpoints\n",
      "      serial_halting: true\n",
      "    type: PathCombiningRouteGenerator\n",
      "  backbone_gn:\n",
      "    net_type: graph attn\n",
      "    kwargs:\n",
      "      n_layers: 5\n",
      "      in_node_dim: 4\n",
      "      in_edge_dim: 14\n",
      "      use_norm: false\n",
      "      n_heads: 4\n",
      "      dense: false\n",
      "  weights: ../TNDP_learning/output/inductive_30_06_2025_18_12_45.pt\n",
      "n_samples: 100\n",
      "batch_size: 512\n",
      "eval:\n",
      "  csv: true\n",
      "  n_routes: 6\n",
      "  min_route_len: 2\n",
      "  max_route_len: 8\n",
      "  dataset:\n",
      "    type: mumford\n",
      "    path: ../TNDP_learning/datasets/mumford_dataset/Instances\n",
      "    city: Mandl\n",
      "run_name: test\n",
      "\n"
     ]
    }
   ],
   "source": [
    "print(OmegaConf.to_yaml(cfg_eval)) # чисто проверка как выглядит конфиг "
   ]
  },
  {
   "cell_type": "code",
   "execution_count": 10,
   "id": "e28c6de9",
   "metadata": {},
   "outputs": [
    {
     "ename": "FileNotFoundError",
     "evalue": "[Errno 2] No such file or directory: '../TNDP_learning/output/inductive_30_06_2025_18_12_45.pt'",
     "output_type": "error",
     "traceback": [
      "\u001b[0;31m---------------------------------------------------------------------------\u001b[0m",
      "\u001b[0;31mFileNotFoundError\u001b[0m                         Traceback (most recent call last)",
      "Cell \u001b[0;32mIn[10], line 1\u001b[0m\n\u001b[0;32m----> 1\u001b[0m \u001b[43mmain_eval\u001b[49m\u001b[43m(\u001b[49m\u001b[43mcfg_eval\u001b[49m\u001b[43m)\u001b[49m\n",
      "File \u001b[0;32m~/TNDP_learning/venv/lib/python3.10/site-packages/hydra/main.py:79\u001b[0m, in \u001b[0;36mmain.<locals>.main_decorator.<locals>.decorated_main\u001b[0;34m(cfg_passthrough)\u001b[0m\n\u001b[1;32m     76\u001b[0m \u001b[38;5;129m@functools\u001b[39m\u001b[38;5;241m.\u001b[39mwraps(task_function)\n\u001b[1;32m     77\u001b[0m \u001b[38;5;28;01mdef\u001b[39;00m\u001b[38;5;250m \u001b[39m\u001b[38;5;21mdecorated_main\u001b[39m(cfg_passthrough: Optional[DictConfig] \u001b[38;5;241m=\u001b[39m \u001b[38;5;28;01mNone\u001b[39;00m) \u001b[38;5;241m-\u001b[39m\u001b[38;5;241m>\u001b[39m Any:\n\u001b[1;32m     78\u001b[0m     \u001b[38;5;28;01mif\u001b[39;00m cfg_passthrough \u001b[38;5;129;01mis\u001b[39;00m \u001b[38;5;129;01mnot\u001b[39;00m \u001b[38;5;28;01mNone\u001b[39;00m:\n\u001b[0;32m---> 79\u001b[0m         \u001b[38;5;28;01mreturn\u001b[39;00m \u001b[43mtask_function\u001b[49m\u001b[43m(\u001b[49m\u001b[43mcfg_passthrough\u001b[49m\u001b[43m)\u001b[49m\n\u001b[1;32m     80\u001b[0m     \u001b[38;5;28;01melse\u001b[39;00m:\n\u001b[1;32m     81\u001b[0m         args_parser \u001b[38;5;241m=\u001b[39m get_args_parser()\n",
      "File \u001b[0;32m~/TNDP_learning/learning/eval_route_generator.py:121\u001b[0m, in \u001b[0;36mmain\u001b[0;34m(cfg)\u001b[0m\n\u001b[1;32m    118\u001b[0m \u001b[38;5;28;01mglobal\u001b[39;00m DEVICE\n\u001b[1;32m    119\u001b[0m \u001b[38;5;28;01massert\u001b[39;00m \u001b[38;5;124m'\u001b[39m\u001b[38;5;124mmodel\u001b[39m\u001b[38;5;124m'\u001b[39m \u001b[38;5;129;01min\u001b[39;00m cfg, \u001b[38;5;124m\"\u001b[39m\u001b[38;5;124mMust provide config for model!\u001b[39m\u001b[38;5;124m\"\u001b[39m\n\u001b[1;32m    120\u001b[0m DEVICE, run_name, _, cost_obj, model \u001b[38;5;241m=\u001b[39m \\\n\u001b[0;32m--> 121\u001b[0m     \u001b[43mlrnu\u001b[49m\u001b[38;5;241;43m.\u001b[39;49m\u001b[43mprocess_standard_experiment_cfg\u001b[49m\u001b[43m(\u001b[49m\u001b[43mcfg\u001b[49m\u001b[43m,\u001b[49m\u001b[43m \u001b[49m\u001b[38;5;124;43m'\u001b[39;49m\u001b[38;5;124;43mnn_construction_\u001b[39;49m\u001b[38;5;124;43m'\u001b[39;49m\u001b[43m,\u001b[49m\u001b[43m \u001b[49m\n\u001b[1;32m    122\u001b[0m \u001b[43m                                         \u001b[49m\u001b[43mweights_required\u001b[49m\u001b[38;5;241;43m=\u001b[39;49m\u001b[38;5;28;43;01mTrue\u001b[39;49;00m\u001b[43m)\u001b[49m\n\u001b[1;32m    124\u001b[0m \u001b[38;5;66;03m# load the data\u001b[39;00m\n\u001b[1;32m    125\u001b[0m test_ds \u001b[38;5;241m=\u001b[39m get_dataset_from_config(cfg\u001b[38;5;241m.\u001b[39meval\u001b[38;5;241m.\u001b[39mdataset)\n",
      "File \u001b[0;32m~/TNDP_learning/learning/utils.py:170\u001b[0m, in \u001b[0;36mprocess_standard_experiment_cfg\u001b[0;34m(cfg, run_name_prefix, weights_required)\u001b[0m\n\u001b[1;32m    168\u001b[0m model \u001b[38;5;241m=\u001b[39m build_model_from_cfg(cfg[\u001b[38;5;124m'\u001b[39m\u001b[38;5;124mmodel\u001b[39m\u001b[38;5;124m'\u001b[39m], exp_cfg)\n\u001b[1;32m    169\u001b[0m \u001b[38;5;28;01mif\u001b[39;00m \u001b[38;5;124m'\u001b[39m\u001b[38;5;124mweights\u001b[39m\u001b[38;5;124m'\u001b[39m \u001b[38;5;129;01min\u001b[39;00m cfg\u001b[38;5;241m.\u001b[39mmodel:\n\u001b[0;32m--> 170\u001b[0m     model\u001b[38;5;241m.\u001b[39mload_state_dict(\u001b[43mtorch\u001b[49m\u001b[38;5;241;43m.\u001b[39;49m\u001b[43mload\u001b[49m\u001b[43m(\u001b[49m\u001b[43mcfg\u001b[49m\u001b[38;5;241;43m.\u001b[39;49m\u001b[43mmodel\u001b[49m\u001b[38;5;241;43m.\u001b[39;49m\u001b[43mweights\u001b[49m\u001b[43m,\u001b[49m\n\u001b[1;32m    171\u001b[0m \u001b[43m                                     \u001b[49m\u001b[43mmap_location\u001b[49m\u001b[38;5;241;43m=\u001b[39;49m\u001b[43mdevice\u001b[49m\u001b[43m)\u001b[49m)\n\u001b[1;32m    172\u001b[0m \u001b[38;5;28;01melif\u001b[39;00m weights_required \u001b[38;5;129;01mand\u001b[39;00m cfg\u001b[38;5;241m.\u001b[39mmodel\u001b[38;5;241m.\u001b[39mroute_generator\u001b[38;5;241m.\u001b[39mtype \u001b[38;5;241m!=\u001b[39m \\\n\u001b[1;32m    173\u001b[0m         \u001b[38;5;124m'\u001b[39m\u001b[38;5;124mRandomPathCombiningRouteGenerator\u001b[39m\u001b[38;5;124m'\u001b[39m:\n\u001b[1;32m    174\u001b[0m     \u001b[38;5;28;01mraise\u001b[39;00m \u001b[38;5;167;01mValueError\u001b[39;00m(\u001b[38;5;124m\"\u001b[39m\u001b[38;5;124mmodel weights are required but not provided\u001b[39m\u001b[38;5;124m\"\u001b[39m)\n",
      "File \u001b[0;32m~/TNDP_learning/venv/lib/python3.10/site-packages/torch/serialization.py:1425\u001b[0m, in \u001b[0;36mload\u001b[0;34m(f, map_location, pickle_module, weights_only, mmap, **pickle_load_args)\u001b[0m\n\u001b[1;32m   1422\u001b[0m \u001b[38;5;28;01mif\u001b[39;00m \u001b[38;5;124m\"\u001b[39m\u001b[38;5;124mencoding\u001b[39m\u001b[38;5;124m\"\u001b[39m \u001b[38;5;129;01mnot\u001b[39;00m \u001b[38;5;129;01min\u001b[39;00m pickle_load_args\u001b[38;5;241m.\u001b[39mkeys():\n\u001b[1;32m   1423\u001b[0m     pickle_load_args[\u001b[38;5;124m\"\u001b[39m\u001b[38;5;124mencoding\u001b[39m\u001b[38;5;124m\"\u001b[39m] \u001b[38;5;241m=\u001b[39m \u001b[38;5;124m\"\u001b[39m\u001b[38;5;124mutf-8\u001b[39m\u001b[38;5;124m\"\u001b[39m\n\u001b[0;32m-> 1425\u001b[0m \u001b[38;5;28;01mwith\u001b[39;00m \u001b[43m_open_file_like\u001b[49m\u001b[43m(\u001b[49m\u001b[43mf\u001b[49m\u001b[43m,\u001b[49m\u001b[43m \u001b[49m\u001b[38;5;124;43m\"\u001b[39;49m\u001b[38;5;124;43mrb\u001b[39;49m\u001b[38;5;124;43m\"\u001b[39;49m\u001b[43m)\u001b[49m \u001b[38;5;28;01mas\u001b[39;00m opened_file:\n\u001b[1;32m   1426\u001b[0m     \u001b[38;5;28;01mif\u001b[39;00m _is_zipfile(opened_file):\n\u001b[1;32m   1427\u001b[0m         \u001b[38;5;66;03m# The zipfile reader is going to advance the current file position.\u001b[39;00m\n\u001b[1;32m   1428\u001b[0m         \u001b[38;5;66;03m# If we want to actually tail call to torch.jit.load, we need to\u001b[39;00m\n\u001b[1;32m   1429\u001b[0m         \u001b[38;5;66;03m# reset back to the original position.\u001b[39;00m\n\u001b[1;32m   1430\u001b[0m         orig_position \u001b[38;5;241m=\u001b[39m opened_file\u001b[38;5;241m.\u001b[39mtell()\n",
      "File \u001b[0;32m~/TNDP_learning/venv/lib/python3.10/site-packages/torch/serialization.py:751\u001b[0m, in \u001b[0;36m_open_file_like\u001b[0;34m(name_or_buffer, mode)\u001b[0m\n\u001b[1;32m    749\u001b[0m \u001b[38;5;28;01mdef\u001b[39;00m\u001b[38;5;250m \u001b[39m\u001b[38;5;21m_open_file_like\u001b[39m(name_or_buffer, mode):\n\u001b[1;32m    750\u001b[0m     \u001b[38;5;28;01mif\u001b[39;00m _is_path(name_or_buffer):\n\u001b[0;32m--> 751\u001b[0m         \u001b[38;5;28;01mreturn\u001b[39;00m \u001b[43m_open_file\u001b[49m\u001b[43m(\u001b[49m\u001b[43mname_or_buffer\u001b[49m\u001b[43m,\u001b[49m\u001b[43m \u001b[49m\u001b[43mmode\u001b[49m\u001b[43m)\u001b[49m\n\u001b[1;32m    752\u001b[0m     \u001b[38;5;28;01melse\u001b[39;00m:\n\u001b[1;32m    753\u001b[0m         \u001b[38;5;28;01mif\u001b[39;00m \u001b[38;5;124m\"\u001b[39m\u001b[38;5;124mw\u001b[39m\u001b[38;5;124m\"\u001b[39m \u001b[38;5;129;01min\u001b[39;00m mode:\n",
      "File \u001b[0;32m~/TNDP_learning/venv/lib/python3.10/site-packages/torch/serialization.py:732\u001b[0m, in \u001b[0;36m_open_file.__init__\u001b[0;34m(self, name, mode)\u001b[0m\n\u001b[1;32m    731\u001b[0m \u001b[38;5;28;01mdef\u001b[39;00m\u001b[38;5;250m \u001b[39m\u001b[38;5;21m__init__\u001b[39m(\u001b[38;5;28mself\u001b[39m, name, mode):\n\u001b[0;32m--> 732\u001b[0m     \u001b[38;5;28msuper\u001b[39m()\u001b[38;5;241m.\u001b[39m\u001b[38;5;21m__init__\u001b[39m(\u001b[38;5;28;43mopen\u001b[39;49m\u001b[43m(\u001b[49m\u001b[43mname\u001b[49m\u001b[43m,\u001b[49m\u001b[43m \u001b[49m\u001b[43mmode\u001b[49m\u001b[43m)\u001b[49m)\n",
      "\u001b[0;31mFileNotFoundError\u001b[0m: [Errno 2] No such file or directory: '../TNDP_learning/output/inductive_30_06_2025_18_12_45.pt'"
     ]
    }
   ],
   "source": [
    "main_eval(cfg_eval)"
   ]
  },
  {
   "cell_type": "markdown",
   "id": "a312e6b0",
   "metadata": {},
   "source": [
    "### Генерация "
   ]
  },
  {
   "cell_type": "code",
   "execution_count": 4,
   "id": "d40ce778",
   "metadata": {},
   "outputs": [],
   "source": [
    "with initialize_config_dir(config_dir=cfg_dir, version_base=None):\n",
    "    cfg_bco = compose(\n",
    "        config_name=\"bco_mumford\",  # как в @hydra.main для bee_colony.py\n",
    "        overrides=[\n",
    "            \"+eval=mandl\",\n",
    "            \"eval.dataset.path=../TNDP_learning/datasets/mumford_dataset/Instances\",\n",
    "            \"init.path=output_routes/nn_construction_mandl_lc100_test_routes.pkl\",\n",
    "        ]\n",
    "    )"
   ]
  },
  {
   "cell_type": "code",
   "execution_count": 5,
   "id": "4f1a12de",
   "metadata": {},
   "outputs": [
    {
     "data": {
      "text/plain": [
       "{'n_bees': 10, 'n_type1_bees': 5, 'n_iterations': 400, 'batch_size': 10, 'force_linking_unlinked': False, 'experiment': {'logdir': 'training_logs', 'anomaly': False, 'cpu': False, 'seed': 0, 'symmetric_routes': True, 'cost_function': {'type': 'mine', 'kwargs': {'mean_stop_time_s': 0, 'avg_transfer_wait_time_s': 300, 'demand_time_weight': 0.5, 'route_time_weight': 0.5, 'constraint_violation_weight': 5.0, 'variable_weights': True, 'pp_fraction': 0.33, 'op_fraction': 0.33}}}, 'init': {'method': 'load', 'path': 'output_routes/nn_construction_mandl_lc100_test_routes.pkl'}, 'eval': {'csv': True, 'n_routes': 6, 'min_route_len': 2, 'max_route_len': 8, 'dataset': {'type': 'mumford', 'path': '../TNDP_learning/datasets/mumford_dataset/Instances', 'city': 'Mandl'}}}"
      ]
     },
     "execution_count": 5,
     "metadata": {},
     "output_type": "execute_result"
    }
   ],
   "source": [
    "cfg_bco"
   ]
  },
  {
   "cell_type": "code",
   "execution_count": null,
   "id": "4b93b137",
   "metadata": {},
   "outputs": [
    {
     "name": "stderr",
     "output_type": "stream",
     "text": [
      "100%|██████████| 400/400 [00:33<00:00, 12.01it/s]\n",
      "100%|██████████| 1/1 [00:33<00:00, 33.34s/it]"
     ]
    },
    {
     "name": "stdout",
     "output_type": "stream",
     "text": [
      ",6.000,0.558,13.493,140.000,59.216,36.609,4.110,0.064,0.000,0.000,33.336,401.000\n"
     ]
    },
    {
     "name": "stderr",
     "output_type": "stream",
     "text": [
      "\n"
     ]
    }
   ],
   "source": [
    "main_bee(cfg_bco)"
   ]
  },
  {
   "cell_type": "code",
   "execution_count": 13,
   "id": "2be692dd",
   "metadata": {},
   "outputs": [],
   "source": [
    "with initialize_config_dir(config_dir=cfg_dir, version_base=None):\n",
    "    cfg_neural = compose(\n",
    "        config_name=\"neural_bco_mumford\",\n",
    "        overrides=[\n",
    "            \"+eval=mandl\",\n",
    "            \"++eval.dataset.path=../TNDP_learning/datasets/mumford_dataset/Instances\",\n",
    "            \"++model.weights=../TNDP_learning/output/inductive_30_06_2025_18_12_45.pt\",\n",
    "            # Куда сохранять initial routes (init.method по defaults = load)\n",
    "            \"init.path=output_routes/nn_construction_mandl_lc100_test_routes.pkl\",\n",
    "        ]\n",
    "    )"
   ]
  },
  {
   "cell_type": "code",
   "execution_count": 9,
   "id": "eaf38fbe",
   "metadata": {},
   "outputs": [
    {
     "data": {
      "text/plain": [
       "{'n_bees': 10, 'n_iterations': 400, 'batch_size': 10, 'neural_bees': True, 'force_linking_unlinked': False, 'experiment': {'logdir': 'training_logs', 'anomaly': False, 'cpu': False, 'seed': 0, 'symmetric_routes': True, 'cost_function': {'type': 'mine', 'kwargs': {'mean_stop_time_s': 0, 'avg_transfer_wait_time_s': 300, 'demand_time_weight': 0.5, 'route_time_weight': 0.5, 'constraint_violation_weight': 5.0, 'variable_weights': True, 'pp_fraction': 0.33, 'op_fraction': 0.33}}}, 'model': {'common': {'dropout': 0.0, 'nonlin_type': 'ReLU', 'embed_dim': 64}, 'route_generator': {'kwargs': {'force_linking_unlinked': False, 'logit_clip': None, 'n_nodepair_layers': 3, 'n_pathscorer_layers': 3, 'pathscorer_hidden_dim': 16, 'n_halt_layers': 3, 'halt_scorer_type': 'endpoints', 'serial_halting': True}, 'type': 'PathCombiningRouteGenerator'}, 'backbone_gn': {'net_type': 'graph attn', 'kwargs': {'n_layers': 5, 'in_node_dim': 4, 'in_edge_dim': 13, 'use_norm': False, 'n_heads': 4, 'dense': False}}, 'weights': '../TNDP_learning/output/inductive_30_06_2025_18_12_45.pt'}, 'init': {'method': 'load', 'path': 'output_routes/neural_construction_mandl_routes.pkl'}, 'eval': {'csv': True, 'n_routes': 6, 'min_route_len': 2, 'max_route_len': 8, 'dataset': {'type': 'mumford', 'path': '../TNDP_learning/datasets/mumford_dataset/Instances', 'city': 'Mandl'}}}"
      ]
     },
     "execution_count": 9,
     "metadata": {},
     "output_type": "execute_result"
    }
   ],
   "source": [
    "cfg_neural"
   ]
  },
  {
   "cell_type": "code",
   "execution_count": null,
   "id": "d8410e17",
   "metadata": {},
   "outputs": [],
   "source": [
    "main_bee(cfg_neural)"
   ]
  }
 ],
 "metadata": {
  "kernelspec": {
   "display_name": "venv",
   "language": "python",
   "name": "python3"
  },
  "language_info": {
   "codemirror_mode": {
    "name": "ipython",
    "version": 3
   },
   "file_extension": ".py",
   "mimetype": "text/x-python",
   "name": "python",
   "nbconvert_exporter": "python",
   "pygments_lexer": "ipython3",
   "version": "3.10.18"
  }
 },
 "nbformat": 4,
 "nbformat_minor": 5
}
