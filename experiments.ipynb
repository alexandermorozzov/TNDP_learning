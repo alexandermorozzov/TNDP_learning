{
 "cells": [
  {
   "cell_type": "code",
   "execution_count": 1,
   "id": "f2425fcc",
   "metadata": {},
   "outputs": [],
   "source": [
    "import torch\n",
    "import shutil\n",
    "import pickle\n",
    "\n",
    "from simulation import citygraph_dataset\n",
    "# from learning import inductive_route_learning, eval_route_generator, bee_colony\n",
    "from learning.bee_colony import main as main_bee  # я так обозвал\n",
    "from learning.eval_route_generator import main as main_eval # я так обозвал\n",
    "from omegaconf import OmegaConf, DictConfig\n",
    "from simulation import drawing\n",
    "\n",
    "from tqdm import tqdm\n",
    "from pathlib import Path"
   ]
  },
  {
   "cell_type": "code",
   "execution_count": 2,
   "id": "a99fa3c5",
   "metadata": {},
   "outputs": [],
   "source": [
    "from hydra import initialize_config_dir, compose\n",
    "from omegaconf import OmegaConf\n",
    "import os\n",
    "\n",
    "cfg_dir = os.path.abspath(\"../TNDP_learning/cfg\")"
   ]
  },
  {
   "cell_type": "markdown",
   "id": "b1dd387e",
   "metadata": {},
   "source": [
    "### Обучение LC"
   ]
  },
  {
   "cell_type": "code",
   "execution_count": 3,
   "id": "f734226f",
   "metadata": {},
   "outputs": [
    {
     "name": "stderr",
     "output_type": "stream",
     "text": [
      "/tmp/ipykernel_2584739/3896539573.py:1: UserWarning: \n",
      "The version_base parameter is not specified.\n",
      "Please specify a compatability version level, or None.\n",
      "Will assume defaults for version 1.1\n",
      "  with initialize_config_dir(config_dir=cfg_dir, job_name=\"app\"):\n"
     ]
    }
   ],
   "source": [
    "with initialize_config_dir(config_dir=cfg_dir, job_name=\"app\"):\n",
    "    cfg_learn = compose(config_name=\"ppo_20nodes_copy.yaml\", # в этот файл можно положить путь к пикл файлу с графами, также можно попробовать другие параметры на обучение\n",
    "                            overrides=[\"+run_name=train_1\"]) # при желании можно накинуть ему имя \n"
   ]
  },
  {
   "cell_type": "code",
   "execution_count": null,
   "id": "a5c49cf9",
   "metadata": {},
   "outputs": [
    {
     "data": {
      "text/plain": [
       "{'ppo': {'n_iterations': 200, 'val_period': 1, 'n_epochs': 1, 'minibatch_size': 16, 'horizon': 120, 'epsilon': 0.2, 'use_gae': True, 'gae_lambda': 0.95}, 'discount_rate': 0.95, 'diff_reward': True, 'baseline_lr': 0.0005, 'entropy_weight': 0.0, 'batch_size': 16, 'reward_scale': 1.0, 'lr': 0.0016134816080499328, 'decay': 0.0008404361781997002, 'optimizer': 'Adam', 'eval': {'n_routes': 10, 'min_route_len': 8, 'max_route_len': 10}, 'dataset': {'type': 'mumford', 'path': '/home/ruslan/TNDP_learning/CEC2013Supp/Instances', 'city': 'VO'}, 'experiment': {'logdir': 'training_logs', 'anomaly': False, 'cpu': False, 'seed': 0, 'symmetric_routes': True, 'cost_function': {'type': 'mine', 'kwargs': {'mean_stop_time_s': 0, 'avg_transfer_wait_time_s': 300, 'demand_time_weight': 0.33, 'route_time_weight': 0.33, 'median_connectivity_weight': 0.33, 'constraint_violation_weight': 5.0, 'variable_weights': True, 'pp_fraction': 0.33, 'op_fraction': 0.33}}}, 'model': {'common': {'dropout': 0.0, 'nonlin_type': 'ReLU', 'embed_dim': 64}, 'route_generator': {'kwargs': {'force_linking_unlinked': False, 'logit_clip': None, 'n_nodepair_layers': 3, 'n_pathscorer_layers': 3, 'pathscorer_hidden_dim': 16, 'n_halt_layers': 3, 'halt_scorer_type': 'endpoints', 'serial_halting': True}, 'type': 'PathCombiningRouteGenerator'}, 'backbone_gn': {'net_type': 'graph attn', 'kwargs': {'n_layers': 5, 'in_node_dim': 4, 'in_edge_dim': 14, 'use_norm': False, 'n_heads': 4, 'dense': False}}}, 'run_name': 'train_1'}"
      ]
     },
     "execution_count": 4,
     "metadata": {},
     "output_type": "execute_result"
    },
    {
     "ename": "",
     "evalue": "",
     "output_type": "error",
     "traceback": [
      "\u001b[1;31mThe Kernel crashed while executing code in the current cell or a previous cell. \n",
      "\u001b[1;31mPlease review the code in the cell(s) to identify a possible cause of the failure. \n",
      "\u001b[1;31mClick <a href='https://aka.ms/vscodeJupyterKernelCrash'>here</a> for more info. \n",
      "\u001b[1;31mView Jupyter <a href='command:jupyter.viewOutput'>log</a> for further details."
     ]
    }
   ],
   "source": [
    "cfg_learn"
   ]
  },
  {
   "cell_type": "code",
   "execution_count": null,
   "id": "7241c10f",
   "metadata": {},
   "outputs": [
    {
     "name": "stderr",
     "output_type": "stream",
     "text": [
      "  0%|          | 0/200 [00:00<?, ?it/s]"
     ]
    }
   ],
   "source": [
    "from learning import inductive_route_learning, eval_route_generator\n",
    "inductive_route_learning.setup_and_train(cfg_learn) # веса для модели вернутся в папку output, там будет файл .pt / при желании можно накинуть ему имя "
   ]
  },
  {
   "cell_type": "markdown",
   "id": "2f6dab43",
   "metadata": {},
   "source": [
    "### Стартовый набор маршрутов"
   ]
  },
  {
   "cell_type": "code",
   "execution_count": null,
   "id": "31951701",
   "metadata": {},
   "outputs": [],
   "source": [
    "with initialize_config_dir(config_dir=cfg_dir, version_base=None):\n",
    "    \n",
    "    cfg_eval = compose(\n",
    "        config_name=\"eval_model_mumford\",   # из @hydra.main\n",
    "        overrides=[\n",
    "            \"+eval=mandl\", # конфиг в котором задается кол-во маршрутов и их макс и мин длины (можно заменить на vo для теста по ваське)\n",
    "            \"+model.weights=../TNDP_learning/output/inductive_30_06_2025_18_12_45.pt\", # путь к весам модели\n",
    "            \"++eval.dataset.path=../TNDP_learning/datasets/mumford_dataset/Instances\", # путь к данным (можно заменить на ваську)\n",
    "            \"++eval.dataset.city=Mandl\", # название города из датасетов, при тесте на ваське написать VO\n",
    "            \"++run_name=test\" # имя запуска, вернет pickle файл с тензором в output_routes\n",
    "        ]\n",
    "    )"
   ]
  },
  {
   "cell_type": "code",
   "execution_count": null,
   "id": "0d992ced",
   "metadata": {},
   "outputs": [
    {
     "name": "stdout",
     "output_type": "stream",
     "text": [
      "experiment:\n",
      "  logdir: null\n",
      "  anomaly: false\n",
      "  cpu: false\n",
      "  seed: 0\n",
      "  symmetric_routes: true\n",
      "  cost_function:\n",
      "    type: mine\n",
      "    kwargs:\n",
      "      mean_stop_time_s: 0\n",
      "      avg_transfer_wait_time_s: 300\n",
      "      demand_time_weight: 0.33\n",
      "      route_time_weight: 0.33\n",
      "      median_connectivity_weight: 0.33\n",
      "      constraint_violation_weight: 5.0\n",
      "      variable_weights: true\n",
      "      pp_fraction: 0.33\n",
      "      op_fraction: 0.33\n",
      "model:\n",
      "  common:\n",
      "    dropout: 0.0\n",
      "    nonlin_type: ReLU\n",
      "    embed_dim: 64\n",
      "  route_generator:\n",
      "    kwargs:\n",
      "      force_linking_unlinked: false\n",
      "      logit_clip: null\n",
      "      n_nodepair_layers: 3\n",
      "      n_pathscorer_layers: 3\n",
      "      pathscorer_hidden_dim: 16\n",
      "      n_halt_layers: 3\n",
      "      halt_scorer_type: endpoints\n",
      "      serial_halting: true\n",
      "    type: PathCombiningRouteGenerator\n",
      "  backbone_gn:\n",
      "    net_type: graph attn\n",
      "    kwargs:\n",
      "      n_layers: 5\n",
      "      in_node_dim: 4\n",
      "      in_edge_dim: 14\n",
      "      use_norm: false\n",
      "      n_heads: 4\n",
      "      dense: false\n",
      "  weights: ../TNDP_learning/output/inductive_30_06_2025_18_12_45.pt\n",
      "n_samples: 100\n",
      "batch_size: 512\n",
      "eval:\n",
      "  csv: true\n",
      "  n_routes: 6\n",
      "  min_route_len: 2\n",
      "  max_route_len: 8\n",
      "  dataset:\n",
      "    type: mumford\n",
      "    path: ../TNDP_learning/datasets/mumford_dataset/Instances\n",
      "    city: Mandl\n",
      "run_name: test\n",
      "\n"
     ]
    }
   ],
   "source": [
    "print(OmegaConf.to_yaml(cfg_eval)) # чисто проверка как выглядит конфиг "
   ]
  },
  {
   "cell_type": "code",
   "execution_count": null,
   "id": "e28c6de9",
   "metadata": {},
   "outputs": [
    {
     "ename": "FileNotFoundError",
     "evalue": "[Errno 2] No such file or directory: '../TNDP_learning/output/inductive_30_06_2025_18_12_45.pt'",
     "output_type": "error",
     "traceback": [
      "\u001b[0;31m---------------------------------------------------------------------------\u001b[0m",
      "\u001b[0;31mFileNotFoundError\u001b[0m                         Traceback (most recent call last)",
      "Cell \u001b[0;32mIn[10], line 1\u001b[0m\n\u001b[0;32m----> 1\u001b[0m \u001b[43mmain_eval\u001b[49m\u001b[43m(\u001b[49m\u001b[43mcfg_eval\u001b[49m\u001b[43m)\u001b[49m\n",
      "File \u001b[0;32m~/TNDP_learning/venv/lib/python3.10/site-packages/hydra/main.py:79\u001b[0m, in \u001b[0;36mmain.<locals>.main_decorator.<locals>.decorated_main\u001b[0;34m(cfg_passthrough)\u001b[0m\n\u001b[1;32m     76\u001b[0m \u001b[38;5;129m@functools\u001b[39m\u001b[38;5;241m.\u001b[39mwraps(task_function)\n\u001b[1;32m     77\u001b[0m \u001b[38;5;28;01mdef\u001b[39;00m\u001b[38;5;250m \u001b[39m\u001b[38;5;21mdecorated_main\u001b[39m(cfg_passthrough: Optional[DictConfig] \u001b[38;5;241m=\u001b[39m \u001b[38;5;28;01mNone\u001b[39;00m) \u001b[38;5;241m-\u001b[39m\u001b[38;5;241m>\u001b[39m Any:\n\u001b[1;32m     78\u001b[0m     \u001b[38;5;28;01mif\u001b[39;00m cfg_passthrough \u001b[38;5;129;01mis\u001b[39;00m \u001b[38;5;129;01mnot\u001b[39;00m \u001b[38;5;28;01mNone\u001b[39;00m:\n\u001b[0;32m---> 79\u001b[0m         \u001b[38;5;28;01mreturn\u001b[39;00m \u001b[43mtask_function\u001b[49m\u001b[43m(\u001b[49m\u001b[43mcfg_passthrough\u001b[49m\u001b[43m)\u001b[49m\n\u001b[1;32m     80\u001b[0m     \u001b[38;5;28;01melse\u001b[39;00m:\n\u001b[1;32m     81\u001b[0m         args_parser \u001b[38;5;241m=\u001b[39m get_args_parser()\n",
      "File \u001b[0;32m~/TNDP_learning/learning/eval_route_generator.py:121\u001b[0m, in \u001b[0;36mmain\u001b[0;34m(cfg)\u001b[0m\n\u001b[1;32m    118\u001b[0m \u001b[38;5;28;01mglobal\u001b[39;00m DEVICE\n\u001b[1;32m    119\u001b[0m \u001b[38;5;28;01massert\u001b[39;00m \u001b[38;5;124m'\u001b[39m\u001b[38;5;124mmodel\u001b[39m\u001b[38;5;124m'\u001b[39m \u001b[38;5;129;01min\u001b[39;00m cfg, \u001b[38;5;124m\"\u001b[39m\u001b[38;5;124mMust provide config for model!\u001b[39m\u001b[38;5;124m\"\u001b[39m\n\u001b[1;32m    120\u001b[0m DEVICE, run_name, _, cost_obj, model \u001b[38;5;241m=\u001b[39m \\\n\u001b[0;32m--> 121\u001b[0m     \u001b[43mlrnu\u001b[49m\u001b[38;5;241;43m.\u001b[39;49m\u001b[43mprocess_standard_experiment_cfg\u001b[49m\u001b[43m(\u001b[49m\u001b[43mcfg\u001b[49m\u001b[43m,\u001b[49m\u001b[43m \u001b[49m\u001b[38;5;124;43m'\u001b[39;49m\u001b[38;5;124;43mnn_construction_\u001b[39;49m\u001b[38;5;124;43m'\u001b[39;49m\u001b[43m,\u001b[49m\u001b[43m \u001b[49m\n\u001b[1;32m    122\u001b[0m \u001b[43m                                         \u001b[49m\u001b[43mweights_required\u001b[49m\u001b[38;5;241;43m=\u001b[39;49m\u001b[38;5;28;43;01mTrue\u001b[39;49;00m\u001b[43m)\u001b[49m\n\u001b[1;32m    124\u001b[0m \u001b[38;5;66;03m# load the data\u001b[39;00m\n\u001b[1;32m    125\u001b[0m test_ds \u001b[38;5;241m=\u001b[39m get_dataset_from_config(cfg\u001b[38;5;241m.\u001b[39meval\u001b[38;5;241m.\u001b[39mdataset)\n",
      "File \u001b[0;32m~/TNDP_learning/learning/utils.py:170\u001b[0m, in \u001b[0;36mprocess_standard_experiment_cfg\u001b[0;34m(cfg, run_name_prefix, weights_required)\u001b[0m\n\u001b[1;32m    168\u001b[0m model \u001b[38;5;241m=\u001b[39m build_model_from_cfg(cfg[\u001b[38;5;124m'\u001b[39m\u001b[38;5;124mmodel\u001b[39m\u001b[38;5;124m'\u001b[39m], exp_cfg)\n\u001b[1;32m    169\u001b[0m \u001b[38;5;28;01mif\u001b[39;00m \u001b[38;5;124m'\u001b[39m\u001b[38;5;124mweights\u001b[39m\u001b[38;5;124m'\u001b[39m \u001b[38;5;129;01min\u001b[39;00m cfg\u001b[38;5;241m.\u001b[39mmodel:\n\u001b[0;32m--> 170\u001b[0m     model\u001b[38;5;241m.\u001b[39mload_state_dict(\u001b[43mtorch\u001b[49m\u001b[38;5;241;43m.\u001b[39;49m\u001b[43mload\u001b[49m\u001b[43m(\u001b[49m\u001b[43mcfg\u001b[49m\u001b[38;5;241;43m.\u001b[39;49m\u001b[43mmodel\u001b[49m\u001b[38;5;241;43m.\u001b[39;49m\u001b[43mweights\u001b[49m\u001b[43m,\u001b[49m\n\u001b[1;32m    171\u001b[0m \u001b[43m                                     \u001b[49m\u001b[43mmap_location\u001b[49m\u001b[38;5;241;43m=\u001b[39;49m\u001b[43mdevice\u001b[49m\u001b[43m)\u001b[49m)\n\u001b[1;32m    172\u001b[0m \u001b[38;5;28;01melif\u001b[39;00m weights_required \u001b[38;5;129;01mand\u001b[39;00m cfg\u001b[38;5;241m.\u001b[39mmodel\u001b[38;5;241m.\u001b[39mroute_generator\u001b[38;5;241m.\u001b[39mtype \u001b[38;5;241m!=\u001b[39m \\\n\u001b[1;32m    173\u001b[0m         \u001b[38;5;124m'\u001b[39m\u001b[38;5;124mRandomPathCombiningRouteGenerator\u001b[39m\u001b[38;5;124m'\u001b[39m:\n\u001b[1;32m    174\u001b[0m     \u001b[38;5;28;01mraise\u001b[39;00m \u001b[38;5;167;01mValueError\u001b[39;00m(\u001b[38;5;124m\"\u001b[39m\u001b[38;5;124mmodel weights are required but not provided\u001b[39m\u001b[38;5;124m\"\u001b[39m)\n",
      "File \u001b[0;32m~/TNDP_learning/venv/lib/python3.10/site-packages/torch/serialization.py:1425\u001b[0m, in \u001b[0;36mload\u001b[0;34m(f, map_location, pickle_module, weights_only, mmap, **pickle_load_args)\u001b[0m\n\u001b[1;32m   1422\u001b[0m \u001b[38;5;28;01mif\u001b[39;00m \u001b[38;5;124m\"\u001b[39m\u001b[38;5;124mencoding\u001b[39m\u001b[38;5;124m\"\u001b[39m \u001b[38;5;129;01mnot\u001b[39;00m \u001b[38;5;129;01min\u001b[39;00m pickle_load_args\u001b[38;5;241m.\u001b[39mkeys():\n\u001b[1;32m   1423\u001b[0m     pickle_load_args[\u001b[38;5;124m\"\u001b[39m\u001b[38;5;124mencoding\u001b[39m\u001b[38;5;124m\"\u001b[39m] \u001b[38;5;241m=\u001b[39m \u001b[38;5;124m\"\u001b[39m\u001b[38;5;124mutf-8\u001b[39m\u001b[38;5;124m\"\u001b[39m\n\u001b[0;32m-> 1425\u001b[0m \u001b[38;5;28;01mwith\u001b[39;00m \u001b[43m_open_file_like\u001b[49m\u001b[43m(\u001b[49m\u001b[43mf\u001b[49m\u001b[43m,\u001b[49m\u001b[43m \u001b[49m\u001b[38;5;124;43m\"\u001b[39;49m\u001b[38;5;124;43mrb\u001b[39;49m\u001b[38;5;124;43m\"\u001b[39;49m\u001b[43m)\u001b[49m \u001b[38;5;28;01mas\u001b[39;00m opened_file:\n\u001b[1;32m   1426\u001b[0m     \u001b[38;5;28;01mif\u001b[39;00m _is_zipfile(opened_file):\n\u001b[1;32m   1427\u001b[0m         \u001b[38;5;66;03m# The zipfile reader is going to advance the current file position.\u001b[39;00m\n\u001b[1;32m   1428\u001b[0m         \u001b[38;5;66;03m# If we want to actually tail call to torch.jit.load, we need to\u001b[39;00m\n\u001b[1;32m   1429\u001b[0m         \u001b[38;5;66;03m# reset back to the original position.\u001b[39;00m\n\u001b[1;32m   1430\u001b[0m         orig_position \u001b[38;5;241m=\u001b[39m opened_file\u001b[38;5;241m.\u001b[39mtell()\n",
      "File \u001b[0;32m~/TNDP_learning/venv/lib/python3.10/site-packages/torch/serialization.py:751\u001b[0m, in \u001b[0;36m_open_file_like\u001b[0;34m(name_or_buffer, mode)\u001b[0m\n\u001b[1;32m    749\u001b[0m \u001b[38;5;28;01mdef\u001b[39;00m\u001b[38;5;250m \u001b[39m\u001b[38;5;21m_open_file_like\u001b[39m(name_or_buffer, mode):\n\u001b[1;32m    750\u001b[0m     \u001b[38;5;28;01mif\u001b[39;00m _is_path(name_or_buffer):\n\u001b[0;32m--> 751\u001b[0m         \u001b[38;5;28;01mreturn\u001b[39;00m \u001b[43m_open_file\u001b[49m\u001b[43m(\u001b[49m\u001b[43mname_or_buffer\u001b[49m\u001b[43m,\u001b[49m\u001b[43m \u001b[49m\u001b[43mmode\u001b[49m\u001b[43m)\u001b[49m\n\u001b[1;32m    752\u001b[0m     \u001b[38;5;28;01melse\u001b[39;00m:\n\u001b[1;32m    753\u001b[0m         \u001b[38;5;28;01mif\u001b[39;00m \u001b[38;5;124m\"\u001b[39m\u001b[38;5;124mw\u001b[39m\u001b[38;5;124m\"\u001b[39m \u001b[38;5;129;01min\u001b[39;00m mode:\n",
      "File \u001b[0;32m~/TNDP_learning/venv/lib/python3.10/site-packages/torch/serialization.py:732\u001b[0m, in \u001b[0;36m_open_file.__init__\u001b[0;34m(self, name, mode)\u001b[0m\n\u001b[1;32m    731\u001b[0m \u001b[38;5;28;01mdef\u001b[39;00m\u001b[38;5;250m \u001b[39m\u001b[38;5;21m__init__\u001b[39m(\u001b[38;5;28mself\u001b[39m, name, mode):\n\u001b[0;32m--> 732\u001b[0m     \u001b[38;5;28msuper\u001b[39m()\u001b[38;5;241m.\u001b[39m\u001b[38;5;21m__init__\u001b[39m(\u001b[38;5;28;43mopen\u001b[39;49m\u001b[43m(\u001b[49m\u001b[43mname\u001b[49m\u001b[43m,\u001b[49m\u001b[43m \u001b[49m\u001b[43mmode\u001b[49m\u001b[43m)\u001b[49m)\n",
      "\u001b[0;31mFileNotFoundError\u001b[0m: [Errno 2] No such file or directory: '../TNDP_learning/output/inductive_30_06_2025_18_12_45.pt'"
     ]
    }
   ],
   "source": [
    "main_eval(cfg_eval)"
   ]
  },
  {
   "cell_type": "markdown",
   "id": "a312e6b0",
   "metadata": {},
   "source": [
    "### Генерация "
   ]
  },
  {
   "cell_type": "code",
   "execution_count": null,
   "id": "d40ce778",
   "metadata": {},
   "outputs": [],
   "source": [
    "with initialize_config_dir(config_dir=cfg_dir, version_base=None):\n",
    "    cfg_bco = compose(\n",
    "        config_name=\"bco_mumford\",  # как в @hydra.main для bee_colony.py\n",
    "        overrides=[\n",
    "            \"+eval=mandl\",\n",
    "            \"eval.dataset.path=../TNDP_learning/datasets/mumford_dataset/Instances\",\n",
    "            \"init.path=output_routes/nn_construction_mandl_lc100_test_routes.pkl\",\n",
    "        ]\n",
    "    )"
   ]
  },
  {
   "cell_type": "code",
   "execution_count": null,
   "id": "4f1a12de",
   "metadata": {},
   "outputs": [
    {
     "data": {
      "text/plain": [
       "{'n_bees': 10, 'n_type1_bees': 5, 'n_iterations': 400, 'batch_size': 10, 'force_linking_unlinked': False, 'experiment': {'logdir': 'training_logs', 'anomaly': False, 'cpu': False, 'seed': 0, 'symmetric_routes': True, 'cost_function': {'type': 'mine', 'kwargs': {'mean_stop_time_s': 0, 'avg_transfer_wait_time_s': 300, 'demand_time_weight': 0.5, 'route_time_weight': 0.5, 'constraint_violation_weight': 5.0, 'variable_weights': True, 'pp_fraction': 0.33, 'op_fraction': 0.33}}}, 'init': {'method': 'load', 'path': 'output_routes/nn_construction_mandl_lc100_test_routes.pkl'}, 'eval': {'csv': True, 'n_routes': 6, 'min_route_len': 2, 'max_route_len': 8, 'dataset': {'type': 'mumford', 'path': '../TNDP_learning/datasets/mumford_dataset/Instances', 'city': 'Mandl'}}}"
      ]
     },
     "execution_count": 5,
     "metadata": {},
     "output_type": "execute_result"
    }
   ],
   "source": [
    "cfg_bco"
   ]
  },
  {
   "cell_type": "code",
   "execution_count": null,
   "id": "4b93b137",
   "metadata": {},
   "outputs": [
    {
     "name": "stderr",
     "output_type": "stream",
     "text": [
      "100%|██████████| 400/400 [00:33<00:00, 12.01it/s]\n",
      "100%|██████████| 1/1 [00:33<00:00, 33.34s/it]"
     ]
    },
    {
     "name": "stdout",
     "output_type": "stream",
     "text": [
      ",6.000,0.558,13.493,140.000,59.216,36.609,4.110,0.064,0.000,0.000,33.336,401.000\n"
     ]
    },
    {
     "name": "stderr",
     "output_type": "stream",
     "text": [
      "\n"
     ]
    }
   ],
   "source": [
    "main_bee(cfg_bco)"
   ]
  },
  {
   "cell_type": "code",
   "execution_count": null,
   "id": "2be692dd",
   "metadata": {},
   "outputs": [],
   "source": [
    "with initialize_config_dir(config_dir=cfg_dir, version_base=None):\n",
    "    cfg_neural = compose(\n",
    "        config_name=\"neural_bco_mumford\",\n",
    "        overrides=[\n",
    "            \"+eval=mandl\",\n",
    "            \"++eval.dataset.path=../TNDP_learning/datasets/mumford_dataset/Instances\",\n",
    "            \"++model.weights=../TNDP_learning/output/inductive_30_06_2025_18_12_45.pt\",\n",
    "            # Куда сохранять initial routes (init.method по defaults = load)\n",
    "            \"init.path=output_routes/nn_construction_mandl_lc100_test_routes.pkl\",\n",
    "        ]\n",
    "    )"
   ]
  },
  {
   "cell_type": "code",
   "execution_count": null,
   "id": "eaf38fbe",
   "metadata": {},
   "outputs": [
    {
     "data": {
      "text/plain": [
       "{'n_bees': 10, 'n_iterations': 400, 'batch_size': 10, 'neural_bees': True, 'force_linking_unlinked': False, 'experiment': {'logdir': 'training_logs', 'anomaly': False, 'cpu': False, 'seed': 0, 'symmetric_routes': True, 'cost_function': {'type': 'mine', 'kwargs': {'mean_stop_time_s': 0, 'avg_transfer_wait_time_s': 300, 'demand_time_weight': 0.5, 'route_time_weight': 0.5, 'constraint_violation_weight': 5.0, 'variable_weights': True, 'pp_fraction': 0.33, 'op_fraction': 0.33}}}, 'model': {'common': {'dropout': 0.0, 'nonlin_type': 'ReLU', 'embed_dim': 64}, 'route_generator': {'kwargs': {'force_linking_unlinked': False, 'logit_clip': None, 'n_nodepair_layers': 3, 'n_pathscorer_layers': 3, 'pathscorer_hidden_dim': 16, 'n_halt_layers': 3, 'halt_scorer_type': 'endpoints', 'serial_halting': True}, 'type': 'PathCombiningRouteGenerator'}, 'backbone_gn': {'net_type': 'graph attn', 'kwargs': {'n_layers': 5, 'in_node_dim': 4, 'in_edge_dim': 13, 'use_norm': False, 'n_heads': 4, 'dense': False}}, 'weights': '../TNDP_learning/output/inductive_30_06_2025_18_12_45.pt'}, 'init': {'method': 'load', 'path': 'output_routes/neural_construction_mandl_routes.pkl'}, 'eval': {'csv': True, 'n_routes': 6, 'min_route_len': 2, 'max_route_len': 8, 'dataset': {'type': 'mumford', 'path': '../TNDP_learning/datasets/mumford_dataset/Instances', 'city': 'Mandl'}}}"
      ]
     },
     "execution_count": 9,
     "metadata": {},
     "output_type": "execute_result"
    }
   ],
   "source": [
    "cfg_neural"
   ]
  },
  {
   "cell_type": "code",
   "execution_count": null,
   "id": "d8410e17",
   "metadata": {},
   "outputs": [],
   "source": [
    "main_bee(cfg_neural)"
   ]
  }
 ],
 "metadata": {
  "kernelspec": {
   "display_name": "venv",
   "language": "python",
   "name": "python3"
  },
  "language_info": {
   "codemirror_mode": {
    "name": "ipython",
    "version": 3
   },
   "file_extension": ".py",
   "mimetype": "text/x-python",
   "name": "python",
   "nbconvert_exporter": "python",
   "pygments_lexer": "ipython3",
   "version": "3.10.18"
  }
 },
 "nbformat": 4,
 "nbformat_minor": 5
}
