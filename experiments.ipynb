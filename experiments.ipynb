{
 "cells": [
  {
   "cell_type": "code",
   "execution_count": 1,
   "id": "f2425fcc",
   "metadata": {},
   "outputs": [
    {
     "ename": "ImportError",
     "evalue": "cannot import name 'main_bee' from 'learning.bee_colony' (/root/TNDP_learning/learning/bee_colony.py)",
     "output_type": "error",
     "traceback": [
      "\u001b[0;31m---------------------------------------------------------------------------\u001b[0m",
      "\u001b[0;31mImportError\u001b[0m                               Traceback (most recent call last)",
      "Cell \u001b[0;32mIn[1], line 7\u001b[0m\n\u001b[1;32m      5\u001b[0m \u001b[38;5;28;01mfrom\u001b[39;00m\u001b[38;5;250m \u001b[39m\u001b[38;5;21;01msimulation\u001b[39;00m\u001b[38;5;250m \u001b[39m\u001b[38;5;28;01mimport\u001b[39;00m citygraph_dataset\n\u001b[1;32m      6\u001b[0m \u001b[38;5;66;03m# from learning import inductive_route_learning, eval_route_generator, bee_colony\u001b[39;00m\n\u001b[0;32m----> 7\u001b[0m \u001b[38;5;28;01mfrom\u001b[39;00m\u001b[38;5;250m \u001b[39m\u001b[38;5;21;01mlearning\u001b[39;00m\u001b[38;5;21;01m.\u001b[39;00m\u001b[38;5;21;01mbee_colony\u001b[39;00m\u001b[38;5;250m \u001b[39m\u001b[38;5;28;01mimport\u001b[39;00m main_bee \u001b[38;5;66;03m# я так обозвал\u001b[39;00m\n\u001b[1;32m      8\u001b[0m \u001b[38;5;28;01mfrom\u001b[39;00m\u001b[38;5;250m \u001b[39m\u001b[38;5;21;01mlearning\u001b[39;00m\u001b[38;5;21;01m.\u001b[39;00m\u001b[38;5;21;01meval_route_generator\u001b[39;00m\u001b[38;5;250m \u001b[39m\u001b[38;5;28;01mimport\u001b[39;00m main_eval \u001b[38;5;66;03m# я так обозвал\u001b[39;00m\n\u001b[1;32m      9\u001b[0m \u001b[38;5;28;01mfrom\u001b[39;00m\u001b[38;5;250m \u001b[39m\u001b[38;5;21;01momegaconf\u001b[39;00m\u001b[38;5;250m \u001b[39m\u001b[38;5;28;01mimport\u001b[39;00m OmegaConf, DictConfig\n",
      "\u001b[0;31mImportError\u001b[0m: cannot import name 'main_bee' from 'learning.bee_colony' (/root/TNDP_learning/learning/bee_colony.py)"
     ]
    }
   ],
   "source": [
    "import torch\n",
    "import shutil\n",
    "import pickle\n",
    "\n",
    "from simulation import citygraph_dataset\n",
    "# from learning import inductive_route_learning, eval_route_generator, bee_colony\n",
    "from learning.bee_colony import main_bee # я так обозвал\n",
    "from learning.eval_route_generator import main_eval # я так обозвал\n",
    "from omegaconf import OmegaConf, DictConfig\n",
    "from hydra import initialize_config_dir, compose\n",
    "from simulation import drawing\n",
    "\n",
    "from tqdm import tqdm\n",
    "from pathlib import Path"
   ]
  },
  {
   "cell_type": "code",
   "execution_count": null,
   "id": "a99fa3c5",
   "metadata": {},
   "outputs": [],
   "source": [
    "from hydra import initialize_config_dir, compose\n",
    "from omegaconf import OmegaConf\n",
    "import os\n",
    "\n",
    "cfg_dir = os.path.abspath(\"../TNDP_learning/cfg\")\n"
   ]
  },
  {
   "cell_type": "markdown",
   "id": "b1dd387e",
   "metadata": {},
   "source": [
    "### Обучение LC"
   ]
  },
  {
   "cell_type": "code",
   "execution_count": null,
   "id": "f734226f",
   "metadata": {},
   "outputs": [
    {
     "name": "stderr",
     "output_type": "stream",
     "text": [
      "/var/folders/zx/byb3bcds50s1lwbdr2mwq18r0000gn/T/ipykernel_33090/4288414268.py:1: UserWarning: \n",
      "The version_base parameter is not specified.\n",
      "Please specify a compatability version level, or None.\n",
      "Will assume defaults for version 1.1\n",
      "  with initialize_config_dir(config_dir=cfg_dir, job_name=\"app\"):\n"
     ]
    }
   ],
   "source": [
    "with initialize_config_dir(config_dir=cfg_dir, job_name=\"app\"):\n",
    "    cfg_learn = compose(config_name=\"ppo_20nodes_copy.yaml\", # в этот файл можно положить путь к пикл файлу с графами, также можно попробовать другие параметры на обучение\n",
    "                            overrides=[\"+run_name=train_1\"]) # при желании можно накинуть ему имя \n"
   ]
  },
  {
   "cell_type": "code",
   "execution_count": 5,
   "id": "a5c49cf9",
   "metadata": {},
   "outputs": [
    {
     "data": {
      "text/plain": [
       "{'ppo': {'n_iterations': 200, 'val_period': 10, 'n_epochs': 1, 'minibatch_size': 128, 'horizon': 120, 'epsilon': 0.2, 'use_gae': True, 'gae_lambda': 0.95}, 'discount_rate': 0.95, 'diff_reward': True, 'baseline_lr': 0.0005, 'entropy_weight': 0.0, 'batch_size': 128, 'reward_scale': 1.0, 'lr': 0.0016134816080499328, 'decay': 0.0008404361781997002, 'optimizer': 'Adam', 'eval': {'n_routes': 10, 'min_route_len': 8, 'max_route_len': 30}, 'dataset': {'type': 'pickle', 'kwargs': {'path': 'output_graphs/mixed', 'space_scale': 0.6, 'demand_scale': 0.2}}, 'experiment': {'logdir': 'training_logs', 'anomaly': False, 'cpu': False, 'seed': 0, 'symmetric_routes': True, 'cost_function': {'type': 'mine', 'kwargs': {'mean_stop_time_s': 0, 'avg_transfer_wait_time_s': 300, 'demand_time_weight': 0.5, 'route_time_weight': 0.5, 'constraint_violation_weight': 5.0, 'variable_weights': True, 'pp_fraction': 0.33, 'op_fraction': 0.33}}}, 'model': {'common': {'dropout': 0.0, 'nonlin_type': 'ReLU', 'embed_dim': 64}, 'route_generator': {'kwargs': {'force_linking_unlinked': False, 'logit_clip': None, 'n_nodepair_layers': 3, 'n_pathscorer_layers': 3, 'pathscorer_hidden_dim': 16, 'n_halt_layers': 3, 'halt_scorer_type': 'endpoints', 'serial_halting': True}, 'type': 'PathCombiningRouteGenerator'}, 'backbone_gn': {'net_type': 'graph attn', 'kwargs': {'n_layers': 5, 'in_node_dim': 4, 'in_edge_dim': 13, 'use_norm': False, 'n_heads': 4, 'dense': False}}}}"
      ]
     },
     "execution_count": 5,
     "metadata": {},
     "output_type": "execute_result"
    }
   ],
   "source": [
    "cfg_learn"
   ]
  },
  {
   "cell_type": "code",
   "execution_count": null,
   "id": "7241c10f",
   "metadata": {},
   "outputs": [],
   "source": [
    "inductive_route_learning.setup_and_train(cfg_learn) # веса для модели вернутся в папку output, там будет файл .pt / при желании можно накинуть ему имя "
   ]
  },
  {
   "cell_type": "markdown",
   "id": "2f6dab43",
   "metadata": {},
   "source": [
    "### Стартовый набор маршрутов"
   ]
  },
  {
   "cell_type": "code",
   "execution_count": null,
   "id": "31951701",
   "metadata": {},
   "outputs": [],
   "source": [
    "with initialize_config_dir(config_dir=cfg_dir, version_base=None):\n",
    "    \n",
    "    cfg_eval = compose(\n",
    "        config_name=\"eval_model_mumford\",   # из @hydra.main\n",
    "        overrides=[\n",
    "            \"+eval=mandl\", # конфиг в котором задается кол-во маршрутов и их макс и мин длины (можно заменить на vo для теста по ваське)\n",
    "            \"+model.weights=../TNDP_learning/output/inductive_30_06_2025_18_12_45.pt\", # путь к весам модели\n",
    "            \"++eval.dataset.path=../TNDP_learning/datasets/mumford_dataset/Instances\", # путь к данным (можно заменить на ваську)\n",
    "            \"++eval.dataset.city=Mandl\", # название города из датасетов, при тесте на ваське написать VO\n",
    "            \"++run_name=test\" # имя запуска, вернет pickle файл с тензором в output_routes\n",
    "        ]\n",
    "    )"
   ]
  },
  {
   "cell_type": "code",
   "execution_count": null,
   "id": "0d992ced",
   "metadata": {},
   "outputs": [],
   "source": [
    "print(OmegaConf.to_yaml(cfg)) # чисто проверка как выглядит конфиг "
   ]
  },
  {
   "cell_type": "code",
   "execution_count": null,
   "id": "e28c6de9",
   "metadata": {},
   "outputs": [],
   "source": [
    "main_eval(cfg)"
   ]
  },
  {
   "cell_type": "markdown",
   "id": "a312e6b0",
   "metadata": {},
   "source": [
    "### Генерация "
   ]
  },
  {
   "cell_type": "code",
   "execution_count": 4,
   "id": "d40ce778",
   "metadata": {},
   "outputs": [],
   "source": [
    "with initialize_config_dir(config_dir=cfg_dir, version_base=None):\n",
    "    cfg_bco = compose(\n",
    "        config_name=\"bco_mumford\",  # как в @hydra.main для bee_colony.py\n",
    "        overrides=[\n",
    "            \"+eval=mandl\",\n",
    "            \"eval.dataset.path=../TNDP_learning/datasets/mumford_dataset/Instances\",\n",
    "            \"init.path=output_routes/nn_construction_mandl_lc100_test_routes.pkl\",\n",
    "        ]\n",
    "    )"
   ]
  },
  {
   "cell_type": "code",
   "execution_count": 5,
   "id": "4f1a12de",
   "metadata": {},
   "outputs": [
    {
     "data": {
      "text/plain": [
       "{'n_bees': 10, 'n_type1_bees': 5, 'n_iterations': 400, 'batch_size': 10, 'force_linking_unlinked': False, 'experiment': {'logdir': 'training_logs', 'anomaly': False, 'cpu': False, 'seed': 0, 'symmetric_routes': True, 'cost_function': {'type': 'mine', 'kwargs': {'mean_stop_time_s': 0, 'avg_transfer_wait_time_s': 300, 'demand_time_weight': 0.5, 'route_time_weight': 0.5, 'constraint_violation_weight': 5.0, 'variable_weights': True, 'pp_fraction': 0.33, 'op_fraction': 0.33}}}, 'init': {'method': 'load', 'path': 'output_routes/nn_construction_mandl_lc100_test_routes.pkl'}, 'eval': {'csv': True, 'n_routes': 6, 'min_route_len': 2, 'max_route_len': 8, 'dataset': {'type': 'mumford', 'path': '../TNDP_learning/datasets/mumford_dataset/Instances', 'city': 'Mandl'}}}"
      ]
     },
     "execution_count": 5,
     "metadata": {},
     "output_type": "execute_result"
    }
   ],
   "source": [
    "cfg_bco"
   ]
  },
  {
   "cell_type": "code",
   "execution_count": null,
   "id": "4b93b137",
   "metadata": {},
   "outputs": [
    {
     "name": "stderr",
     "output_type": "stream",
     "text": [
      "100%|██████████| 400/400 [00:33<00:00, 12.01it/s]\n",
      "100%|██████████| 1/1 [00:33<00:00, 33.34s/it]"
     ]
    },
    {
     "name": "stdout",
     "output_type": "stream",
     "text": [
      ",6.000,0.558,13.493,140.000,59.216,36.609,4.110,0.064,0.000,0.000,33.336,401.000\n"
     ]
    },
    {
     "name": "stderr",
     "output_type": "stream",
     "text": [
      "\n"
     ]
    }
   ],
   "source": [
    "main_bee(cfg_bco)"
   ]
  },
  {
   "cell_type": "code",
   "execution_count": 13,
   "id": "2be692dd",
   "metadata": {},
   "outputs": [],
   "source": [
    "with initialize_config_dir(config_dir=cfg_dir, version_base=None):\n",
    "    cfg_neural = compose(\n",
    "        config_name=\"neural_bco_mumford\",\n",
    "        overrides=[\n",
    "            \"+eval=mandl\",\n",
    "            \"++eval.dataset.path=../TNDP_learning/datasets/mumford_dataset/Instances\",\n",
    "            \"++model.weights=../TNDP_learning/output/inductive_30_06_2025_18_12_45.pt\",\n",
    "            # Куда сохранять initial routes (init.method по defaults = load)\n",
    "            \"init.path=output_routes/nn_construction_mandl_lc100_test_routes.pkl\",\n",
    "        ]\n",
    "    )"
   ]
  },
  {
   "cell_type": "code",
   "execution_count": 9,
   "id": "eaf38fbe",
   "metadata": {},
   "outputs": [
    {
     "data": {
      "text/plain": [
       "{'n_bees': 10, 'n_iterations': 400, 'batch_size': 10, 'neural_bees': True, 'force_linking_unlinked': False, 'experiment': {'logdir': 'training_logs', 'anomaly': False, 'cpu': False, 'seed': 0, 'symmetric_routes': True, 'cost_function': {'type': 'mine', 'kwargs': {'mean_stop_time_s': 0, 'avg_transfer_wait_time_s': 300, 'demand_time_weight': 0.5, 'route_time_weight': 0.5, 'constraint_violation_weight': 5.0, 'variable_weights': True, 'pp_fraction': 0.33, 'op_fraction': 0.33}}}, 'model': {'common': {'dropout': 0.0, 'nonlin_type': 'ReLU', 'embed_dim': 64}, 'route_generator': {'kwargs': {'force_linking_unlinked': False, 'logit_clip': None, 'n_nodepair_layers': 3, 'n_pathscorer_layers': 3, 'pathscorer_hidden_dim': 16, 'n_halt_layers': 3, 'halt_scorer_type': 'endpoints', 'serial_halting': True}, 'type': 'PathCombiningRouteGenerator'}, 'backbone_gn': {'net_type': 'graph attn', 'kwargs': {'n_layers': 5, 'in_node_dim': 4, 'in_edge_dim': 13, 'use_norm': False, 'n_heads': 4, 'dense': False}}, 'weights': '../TNDP_learning/output/inductive_30_06_2025_18_12_45.pt'}, 'init': {'method': 'load', 'path': 'output_routes/neural_construction_mandl_routes.pkl'}, 'eval': {'csv': True, 'n_routes': 6, 'min_route_len': 2, 'max_route_len': 8, 'dataset': {'type': 'mumford', 'path': '../TNDP_learning/datasets/mumford_dataset/Instances', 'city': 'Mandl'}}}"
      ]
     },
     "execution_count": 9,
     "metadata": {},
     "output_type": "execute_result"
    }
   ],
   "source": [
    "cfg_neural"
   ]
  },
  {
   "cell_type": "code",
   "execution_count": null,
   "id": "d8410e17",
   "metadata": {},
   "outputs": [],
   "source": [
    "main_bee(cfg_neural)"
   ]
  }
 ],
 "metadata": {
  "kernelspec": {
   "display_name": "venv",
   "language": "python",
   "name": "python3"
  },
  "language_info": {
   "codemirror_mode": {
    "name": "ipython",
    "version": 3
   },
   "file_extension": ".py",
   "mimetype": "text/x-python",
   "name": "python",
   "nbconvert_exporter": "python",
   "pygments_lexer": "ipython3",
   "version": "3.9.23"
  }
 },
 "nbformat": 4,
 "nbformat_minor": 5
}
